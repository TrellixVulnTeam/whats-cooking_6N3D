{
 "cells": [
  {
   "cell_type": "markdown",
   "metadata": {},
   "source": [
    "# Predicting cuisine by provided ingredients"
   ]
  },
  {
   "cell_type": "markdown",
   "metadata": {},
   "source": [
    "Goal is to use provided recipe ingredients to classify the cuisine."
   ]
  },
  {
   "cell_type": "markdown",
   "metadata": {},
   "source": [
    "## Part 1: Exploratory analysis"
   ]
  },
  {
   "cell_type": "code",
   "execution_count": 1,
   "metadata": {},
   "outputs": [],
   "source": [
    "import pandas as pd\n",
    "import numpy as np\n",
    "import os\n",
    "import json\n",
    "import matplotlib.pyplot as plt\n",
    "import string"
   ]
  },
  {
   "cell_type": "markdown",
   "metadata": {},
   "source": [
    "Loading of whats-cooking dataset from Kaggle competition into a dataframe."
   ]
  },
  {
   "cell_type": "code",
   "execution_count": 2,
   "metadata": {},
   "outputs": [],
   "source": [
    "curr_path = os.path.dirname(os.getcwd())\n",
    "data_path = os.path.join(curr_path, 'whats-cooking/data')\n",
    "input_file = os.path.join(data_path, 'train.json')\n",
    "test_file = os.path.join(data_path, 'test.json')"
   ]
  },
  {
   "cell_type": "code",
   "execution_count": 3,
   "metadata": {},
   "outputs": [],
   "source": [
    "with open(input_file) as file:\n",
    "    data = json.load(file)\n",
    "    df = pd.DataFrame(data) \n",
    "\n",
    "with open(test_file) as file:\n",
    "    data = json.load(file)\n",
    "    df_test = pd.DataFrame(data) "
   ]
  },
  {
   "cell_type": "markdown",
   "metadata": {},
   "source": [
    "We will check out the first few rows of data:"
   ]
  },
  {
   "cell_type": "code",
   "execution_count": 4,
   "metadata": {},
   "outputs": [
    {
     "data": {
      "text/html": [
       "<div>\n",
       "<style scoped>\n",
       "    .dataframe tbody tr th:only-of-type {\n",
       "        vertical-align: middle;\n",
       "    }\n",
       "\n",
       "    .dataframe tbody tr th {\n",
       "        vertical-align: top;\n",
       "    }\n",
       "\n",
       "    .dataframe thead th {\n",
       "        text-align: right;\n",
       "    }\n",
       "</style>\n",
       "<table border=\"1\" class=\"dataframe\">\n",
       "  <thead>\n",
       "    <tr style=\"text-align: right;\">\n",
       "      <th></th>\n",
       "      <th>cuisine</th>\n",
       "      <th>id</th>\n",
       "      <th>ingredients</th>\n",
       "    </tr>\n",
       "  </thead>\n",
       "  <tbody>\n",
       "    <tr>\n",
       "      <th>0</th>\n",
       "      <td>greek</td>\n",
       "      <td>10259</td>\n",
       "      <td>[romaine lettuce, black olives, grape tomatoes...</td>\n",
       "    </tr>\n",
       "    <tr>\n",
       "      <th>1</th>\n",
       "      <td>southern_us</td>\n",
       "      <td>25693</td>\n",
       "      <td>[plain flour, ground pepper, salt, tomatoes, g...</td>\n",
       "    </tr>\n",
       "    <tr>\n",
       "      <th>2</th>\n",
       "      <td>filipino</td>\n",
       "      <td>20130</td>\n",
       "      <td>[eggs, pepper, salt, mayonaise, cooking oil, g...</td>\n",
       "    </tr>\n",
       "    <tr>\n",
       "      <th>3</th>\n",
       "      <td>indian</td>\n",
       "      <td>22213</td>\n",
       "      <td>[water, vegetable oil, wheat, salt]</td>\n",
       "    </tr>\n",
       "    <tr>\n",
       "      <th>4</th>\n",
       "      <td>indian</td>\n",
       "      <td>13162</td>\n",
       "      <td>[black pepper, shallots, cornflour, cayenne pe...</td>\n",
       "    </tr>\n",
       "  </tbody>\n",
       "</table>\n",
       "</div>"
      ],
      "text/plain": [
       "       cuisine     id                                        ingredients\n",
       "0        greek  10259  [romaine lettuce, black olives, grape tomatoes...\n",
       "1  southern_us  25693  [plain flour, ground pepper, salt, tomatoes, g...\n",
       "2     filipino  20130  [eggs, pepper, salt, mayonaise, cooking oil, g...\n",
       "3       indian  22213                [water, vegetable oil, wheat, salt]\n",
       "4       indian  13162  [black pepper, shallots, cornflour, cayenne pe..."
      ]
     },
     "execution_count": 4,
     "metadata": {},
     "output_type": "execute_result"
    }
   ],
   "source": [
    "df.head()"
   ]
  },
  {
   "cell_type": "code",
   "execution_count": 5,
   "metadata": {},
   "outputs": [
    {
     "data": {
      "text/plain": [
       "array(['indian', 22213, list(['water', 'vegetable oil', 'wheat', 'salt'])],\n",
       "      dtype=object)"
      ]
     },
     "execution_count": 5,
     "metadata": {},
     "output_type": "execute_result"
    }
   ],
   "source": [
    "df.values[3]"
   ]
  },
  {
   "cell_type": "markdown",
   "metadata": {},
   "source": [
    "Each data sample consists of a cuisine label, an id and the ingredients of the recipe."
   ]
  },
  {
   "cell_type": "code",
   "execution_count": 6,
   "metadata": {},
   "outputs": [
    {
     "name": "stdout",
     "output_type": "stream",
     "text": [
      "<class 'pandas.core.frame.DataFrame'>\n",
      "RangeIndex: 39774 entries, 0 to 39773\n",
      "Data columns (total 3 columns):\n",
      "cuisine        39774 non-null object\n",
      "id             39774 non-null int64\n",
      "ingredients    39774 non-null object\n",
      "dtypes: int64(1), object(2)\n",
      "memory usage: 932.3+ KB\n",
      "20\n"
     ]
    }
   ],
   "source": [
    "df.info()\n",
    "n_cuisines = len(df['cuisine'].unique())\n",
    "print(n_cuisines)"
   ]
  },
  {
   "cell_type": "markdown",
   "metadata": {},
   "source": [
    "In the dataset we have <font color='#2ecc71'><b>39774</b></font> data samples and <font color='#2ecc71'><b>20</b></font> unique cuisines as labels."
   ]
  },
  {
   "cell_type": "code",
   "execution_count": 7,
   "metadata": {},
   "outputs": [
    {
     "name": "stdout",
     "output_type": "stream",
     "text": [
      "{'italian': 7838, 'mexican': 6438, 'southern_us': 4320, 'indian': 3003, 'chinese': 2673, 'french': 2646, 'cajun_creole': 1546, 'thai': 1539, 'japanese': 1423, 'greek': 1175, 'spanish': 989, 'korean': 830, 'vietnamese': 825, 'moroccan': 821, 'british': 804, 'filipino': 755, 'irish': 667, 'jamaican': 526, 'russian': 489, 'brazilian': 467}\n"
     ]
    }
   ],
   "source": [
    "cuisine_counts = dict(df['cuisine'].value_counts())\n",
    "print(cuisine_counts)"
   ]
  },
  {
   "cell_type": "code",
   "execution_count": 8,
   "metadata": {},
   "outputs": [
    {
     "data": {
      "image/png": "[encoded data removed]",
      "text/plain": [
       "<Figure size 720x360 with 1 Axes>"
      ]
     },
     "metadata": {},
     "output_type": "display_data"
    }
   ],
   "source": [
    "plt.style.use('ggplot')\n",
    "plt.figure(figsize=(10,5))\n",
    "colors = ['#2ecc71'] * len(cuisine_counts)\n",
    "plt.bar(range(len(cuisine_counts)), cuisine_counts.values(), align='center', color=colors)\n",
    "plt.xlabel('Cuisine', fontsize=10)\n",
    "plt.ylabel('Number of recipes', fontsize=10)\n",
    "plt.xticks(range(len(cuisine_counts)), cuisine_counts.keys(), rotation='vertical')\n",
    "plt.savefig(\"img/cuisines_histogram.eps\", format='eps')\n",
    "plt.show()"
   ]
  },
  {
   "cell_type": "markdown",
   "metadata": {},
   "source": [
    "In the histogram graph we can see that the most common cuisine in the dataset is <font color='#2ecc71'><b>italian</b></font> (7838), <font color='#2ecc71'><b>mexican</b></font> (6438) and <font color='#2ecc71'><b>southern_us</b></font> (4320)."
   ]
  },
  {
   "cell_type": "markdown",
   "metadata": {},
   "source": [
    "## Ingredients"
   ]
  },
  {
   "cell_type": "markdown",
   "metadata": {},
   "source": [
    "We will look at the most common ingredients both overally and at the most common ingredients for each cuisine:"
   ]
  },
  {
   "cell_type": "code",
   "execution_count": 183,
   "metadata": {},
   "outputs": [
    {
     "name": "stdout",
     "output_type": "stream",
     "text": [
      "['romaine lettuce', 'black olives', 'grape tomatoes', 'garlic', 'pepper', 'purple onion', 'seasoning', 'garbanzo beans', 'feta cheese crumbles', 'plain flour', 'ground pepper', 'salt', 'tomatoes', 'ground black pepper', 'thyme', 'eggs', 'green tomatoes', 'yellow corn meal', 'milk', 'vegetable oil', 'mayonaise', 'cooking oil', 'green chilies', 'grilled chicken breasts', 'garlic powder', 'yellow onion', 'soy sauce', 'butter', 'chicken livers', 'water', 'wheat', 'black pepper', 'shallots', 'cornflour', 'cayenne pepper', 'onions', 'garlic paste', 'lemon juice', 'chili powder', 'passata', 'oil', 'ground cumin', 'boneless chicken skinless thigh', 'garam masala', 'double cream', 'natural yogurt', 'bay leaf', 'sugar', 'fresh ginger root', 'ground cinnamon', 'vanilla extract', 'ground ginger', 'powdered sugar', 'baking powder', 'olive oil', 'medium shrimp', 'chopped cilantro', 'jalapeno chilies', 'flat leaf parsley', 'skirt steak', 'white vinegar', 'sea salt', 'chorizo sausage', 'pistachio nuts', 'white almond bark', 'flour', 'almond extract', 'dried cranberries', 'fresh pineapple', 'pork', 'poblano peppers', 'corn tortillas', 'cheddar cheese', 'iceberg lettuce', 'lime', 'chopped cilantro fresh', 'chopped tomatoes', 'fresh basil', 'extra-virgin olive oil', 'kosher salt', 'pimentos', 'sweet pepper', 'dried oregano', 'sharp cheddar cheese', 'swiss cheese', 'provolone cheese', 'canola oil', 'mushrooms', 'sausages', 'low sodium soy sauce', 'fresh ginger', 'dry mustard', 'green beans', 'white pepper', 'sesame oil', 'scallions', 'shaoxing wine', 'ground turkey', 'crushed red pepper flakes', 'corn starch']\n"
     ]
    }
   ],
   "source": [
    "ingredients_counts = {}\n",
    "ingr_text = \"\"\n",
    "\n",
    "for recipe_ingr in df['ingredients']:\n",
    "    for ingr in recipe_ingr:\n",
    "        ingr_text += ingr\n",
    "        ingr_text += \" \"\n",
    "        count = ingredients_counts.get(ingr.lower(), 0)\n",
    "        ingredients_counts[ingr.lower()] = count + 2\n",
    "print(list(ingredients_counts)[:100])"
   ]
  },
  {
   "cell_type": "code",
   "execution_count": 10,
   "metadata": {},
   "outputs": [
    {
     "data": {
      "text/plain": [
       "6703"
      ]
     },
     "execution_count": 10,
     "metadata": {},
     "output_type": "execute_result"
    }
   ],
   "source": [
    "n_ingredients = len(ingredients_counts)\n",
    "n_ingredients"
   ]
  },
  {
   "cell_type": "markdown",
   "metadata": {},
   "source": [
    "The total number of unique ingredients is <font color='#2ecc71'><b>6703</b></font>. For a better visualization we will genreate a word cloud image:"
   ]
  },
  {
   "cell_type": "code",
   "execution_count": 11,
   "metadata": {},
   "outputs": [
    {
     "data": {
      "image/png": "[encoded data removed]",
      "text/plain": [
       "<Figure size 720x576 with 1 Axes>"
      ]
     },
     "metadata": {},
     "output_type": "display_data"
    }
   ],
   "source": [
    "from wordcloud import WordCloud, STOPWORDS, ImageColorGenerator\n",
    "wordcloud = WordCloud(background_color=\"white\").generate(ingr_text)\n",
    "\n",
    "wordcloud.to_file(\"img/ingredients_word-cloud.png\")\n",
    "plt.figure(figsize = (10, 8), facecolor = None) \n",
    "plt.imshow(wordcloud, interpolation='bilinear')\n",
    "plt.axis(\"off\")\n",
    "plt.show()"
   ]
  },
  {
   "cell_type": "markdown",
   "metadata": {},
   "source": [
    "List and plot histogram of top ten ingredients:"
   ]
  },
  {
   "cell_type": "code",
   "execution_count": 12,
   "metadata": {},
   "outputs": [
    {
     "name": "stdout",
     "output_type": "stream",
     "text": [
      "{'salt': 36098, 'onions': 15944, 'olive oil': 15944, 'water': 14914, 'garlic': 14760, 'sugar': 12868, 'garlic cloves': 12474, 'butter': 9696, 'ground black pepper': 9570, 'all-purpose flour': 9264}\n"
     ]
    }
   ],
   "source": [
    "top_10_ingredients = dict(sorted(ingredients_counts.items(), key=lambda tup: -tup[1])[0:10])\n",
    "print(top_10_ingredients)"
   ]
  },
  {
   "cell_type": "code",
   "execution_count": 13,
   "metadata": {},
   "outputs": [
    {
     "data": {
      "image/png": "[encoded data removed]",
      "text/plain": [
       "<Figure size 720x360 with 1 Axes>"
      ]
     },
     "metadata": {},
     "output_type": "display_data"
    }
   ],
   "source": [
    "plt.style.use('ggplot')\n",
    "plt.figure(figsize=(10,5))\n",
    "colors = ['#2ecc71'] * len(top_10_ingredients)\n",
    "plt.bar(range(len(top_10_ingredients)), top_10_ingredients.values(), align='center', color=colors)\n",
    "plt.xlabel('Ingredient', fontsize=10)\n",
    "plt.ylabel('Number of occurences in dataset', fontsize=10)\n",
    "plt.xticks(range(len(top_10_ingredients)), top_10_ingredients.keys(), rotation='vertical')\n",
    "plt.savefig(\"img/top_10_ingredients_histogram.eps\", format='eps')\n",
    "plt.show()"
   ]
  },
  {
   "cell_type": "markdown",
   "metadata": {},
   "source": [
    "We will create counters for each recipe of the same cuisine to see which ingredients are frequently used in that cuisine:"
   ]
  },
  {
   "cell_type": "code",
   "execution_count": 14,
   "metadata": {},
   "outputs": [],
   "source": [
    "from collections import Counter\n",
    "\n",
    "counters = {}\n",
    "for cuis in cuisine_counts.keys():\n",
    "    counters[cuis] = Counter()\n",
    "    indices = (df['cuisine'] == cuis)\n",
    "    for ingr in df[indices]['ingredients']:\n",
    "        counters[cuis].update(ingr)"
   ]
  },
  {
   "cell_type": "markdown",
   "metadata": {},
   "source": [
    "List 10 most common ingredients from each cuisine"
   ]
  },
  {
   "cell_type": "code",
   "execution_count": 15,
   "metadata": {},
   "outputs": [
    {
     "data": {
      "text/plain": [
       "[('salt', 3454),\n",
       " ('olive oil', 3111),\n",
       " ('garlic cloves', 1619),\n",
       " ('grated parmesan cheese', 1580),\n",
       " ('garlic', 1471),\n",
       " ('ground black pepper', 1444),\n",
       " ('extra-virgin olive oil', 1362),\n",
       " ('onions', 1240),\n",
       " ('water', 1052),\n",
       " ('butter', 1030)]"
      ]
     },
     "execution_count": 15,
     "metadata": {},
     "output_type": "execute_result"
    }
   ],
   "source": [
    "counters['italian'].most_common(10)"
   ]
  },
  {
   "cell_type": "markdown",
   "metadata": {},
   "source": [
    "Create a pandas data frame from top 10 ingredients for each cuisine"
   ]
  },
  {
   "cell_type": "code",
   "execution_count": 16,
   "metadata": {},
   "outputs": [
    {
     "data": {
      "text/html": [
       "<div>\n",
       "<style scoped>\n",
       "    .dataframe tbody tr th:only-of-type {\n",
       "        vertical-align: middle;\n",
       "    }\n",
       "\n",
       "    .dataframe tbody tr th {\n",
       "        vertical-align: top;\n",
       "    }\n",
       "\n",
       "    .dataframe thead th {\n",
       "        text-align: right;\n",
       "    }\n",
       "</style>\n",
       "<table border=\"1\" class=\"dataframe\">\n",
       "  <thead>\n",
       "    <tr style=\"text-align: right;\">\n",
       "      <th></th>\n",
       "      <th>1</th>\n",
       "      <th>2</th>\n",
       "      <th>3</th>\n",
       "      <th>4</th>\n",
       "      <th>5</th>\n",
       "      <th>6</th>\n",
       "      <th>7</th>\n",
       "      <th>8</th>\n",
       "      <th>9</th>\n",
       "      <th>10</th>\n",
       "    </tr>\n",
       "  </thead>\n",
       "  <tbody>\n",
       "    <tr>\n",
       "      <th>italian</th>\n",
       "      <td>salt</td>\n",
       "      <td>olive oil</td>\n",
       "      <td>garlic cloves</td>\n",
       "      <td>grated parmesan cheese</td>\n",
       "      <td>garlic</td>\n",
       "      <td>ground black pepper</td>\n",
       "      <td>extra-virgin olive oil</td>\n",
       "      <td>onions</td>\n",
       "      <td>water</td>\n",
       "      <td>butter</td>\n",
       "    </tr>\n",
       "    <tr>\n",
       "      <th>mexican</th>\n",
       "      <td>salt</td>\n",
       "      <td>onions</td>\n",
       "      <td>ground cumin</td>\n",
       "      <td>garlic</td>\n",
       "      <td>olive oil</td>\n",
       "      <td>chili powder</td>\n",
       "      <td>jalapeno chilies</td>\n",
       "      <td>sour cream</td>\n",
       "      <td>avocado</td>\n",
       "      <td>corn tortillas</td>\n",
       "    </tr>\n",
       "    <tr>\n",
       "      <th>southern_us</th>\n",
       "      <td>salt</td>\n",
       "      <td>butter</td>\n",
       "      <td>all-purpose flour</td>\n",
       "      <td>sugar</td>\n",
       "      <td>large eggs</td>\n",
       "      <td>baking powder</td>\n",
       "      <td>water</td>\n",
       "      <td>unsalted butter</td>\n",
       "      <td>milk</td>\n",
       "      <td>buttermilk</td>\n",
       "    </tr>\n",
       "    <tr>\n",
       "      <th>indian</th>\n",
       "      <td>salt</td>\n",
       "      <td>onions</td>\n",
       "      <td>garam masala</td>\n",
       "      <td>water</td>\n",
       "      <td>ground turmeric</td>\n",
       "      <td>garlic</td>\n",
       "      <td>cumin seed</td>\n",
       "      <td>ground cumin</td>\n",
       "      <td>vegetable oil</td>\n",
       "      <td>oil</td>\n",
       "    </tr>\n",
       "    <tr>\n",
       "      <th>chinese</th>\n",
       "      <td>soy sauce</td>\n",
       "      <td>sesame oil</td>\n",
       "      <td>salt</td>\n",
       "      <td>corn starch</td>\n",
       "      <td>sugar</td>\n",
       "      <td>garlic</td>\n",
       "      <td>water</td>\n",
       "      <td>green onions</td>\n",
       "      <td>vegetable oil</td>\n",
       "      <td>scallions</td>\n",
       "    </tr>\n",
       "    <tr>\n",
       "      <th>french</th>\n",
       "      <td>salt</td>\n",
       "      <td>sugar</td>\n",
       "      <td>all-purpose flour</td>\n",
       "      <td>unsalted butter</td>\n",
       "      <td>olive oil</td>\n",
       "      <td>butter</td>\n",
       "      <td>water</td>\n",
       "      <td>large eggs</td>\n",
       "      <td>garlic cloves</td>\n",
       "      <td>ground black pepper</td>\n",
       "    </tr>\n",
       "    <tr>\n",
       "      <th>cajun_creole</th>\n",
       "      <td>salt</td>\n",
       "      <td>onions</td>\n",
       "      <td>garlic</td>\n",
       "      <td>green bell pepper</td>\n",
       "      <td>butter</td>\n",
       "      <td>olive oil</td>\n",
       "      <td>cayenne pepper</td>\n",
       "      <td>cajun seasoning</td>\n",
       "      <td>all-purpose flour</td>\n",
       "      <td>water</td>\n",
       "    </tr>\n",
       "    <tr>\n",
       "      <th>thai</th>\n",
       "      <td>fish sauce</td>\n",
       "      <td>garlic</td>\n",
       "      <td>salt</td>\n",
       "      <td>coconut milk</td>\n",
       "      <td>vegetable oil</td>\n",
       "      <td>soy sauce</td>\n",
       "      <td>sugar</td>\n",
       "      <td>water</td>\n",
       "      <td>garlic cloves</td>\n",
       "      <td>fresh lime juice</td>\n",
       "    </tr>\n",
       "    <tr>\n",
       "      <th>japanese</th>\n",
       "      <td>soy sauce</td>\n",
       "      <td>salt</td>\n",
       "      <td>mirin</td>\n",
       "      <td>sugar</td>\n",
       "      <td>water</td>\n",
       "      <td>sake</td>\n",
       "      <td>rice vinegar</td>\n",
       "      <td>vegetable oil</td>\n",
       "      <td>scallions</td>\n",
       "      <td>ginger</td>\n",
       "    </tr>\n",
       "    <tr>\n",
       "      <th>greek</th>\n",
       "      <td>salt</td>\n",
       "      <td>olive oil</td>\n",
       "      <td>dried oregano</td>\n",
       "      <td>garlic cloves</td>\n",
       "      <td>feta cheese crumbles</td>\n",
       "      <td>extra-virgin olive oil</td>\n",
       "      <td>fresh lemon juice</td>\n",
       "      <td>ground black pepper</td>\n",
       "      <td>garlic</td>\n",
       "      <td>pepper</td>\n",
       "    </tr>\n",
       "    <tr>\n",
       "      <th>spanish</th>\n",
       "      <td>salt</td>\n",
       "      <td>olive oil</td>\n",
       "      <td>garlic cloves</td>\n",
       "      <td>extra-virgin olive oil</td>\n",
       "      <td>onions</td>\n",
       "      <td>water</td>\n",
       "      <td>tomatoes</td>\n",
       "      <td>ground black pepper</td>\n",
       "      <td>red bell pepper</td>\n",
       "      <td>pepper</td>\n",
       "    </tr>\n",
       "    <tr>\n",
       "      <th>korean</th>\n",
       "      <td>soy sauce</td>\n",
       "      <td>sesame oil</td>\n",
       "      <td>garlic</td>\n",
       "      <td>green onions</td>\n",
       "      <td>sugar</td>\n",
       "      <td>salt</td>\n",
       "      <td>water</td>\n",
       "      <td>sesame seeds</td>\n",
       "      <td>onions</td>\n",
       "      <td>scallions</td>\n",
       "    </tr>\n",
       "    <tr>\n",
       "      <th>vietnamese</th>\n",
       "      <td>fish sauce</td>\n",
       "      <td>sugar</td>\n",
       "      <td>salt</td>\n",
       "      <td>garlic</td>\n",
       "      <td>water</td>\n",
       "      <td>carrots</td>\n",
       "      <td>soy sauce</td>\n",
       "      <td>shallots</td>\n",
       "      <td>garlic cloves</td>\n",
       "      <td>vegetable oil</td>\n",
       "    </tr>\n",
       "    <tr>\n",
       "      <th>moroccan</th>\n",
       "      <td>salt</td>\n",
       "      <td>olive oil</td>\n",
       "      <td>ground cumin</td>\n",
       "      <td>onions</td>\n",
       "      <td>ground cinnamon</td>\n",
       "      <td>garlic cloves</td>\n",
       "      <td>water</td>\n",
       "      <td>ground ginger</td>\n",
       "      <td>carrots</td>\n",
       "      <td>paprika</td>\n",
       "    </tr>\n",
       "    <tr>\n",
       "      <th>british</th>\n",
       "      <td>salt</td>\n",
       "      <td>all-purpose flour</td>\n",
       "      <td>butter</td>\n",
       "      <td>milk</td>\n",
       "      <td>eggs</td>\n",
       "      <td>unsalted butter</td>\n",
       "      <td>sugar</td>\n",
       "      <td>onions</td>\n",
       "      <td>baking powder</td>\n",
       "      <td>large eggs</td>\n",
       "    </tr>\n",
       "    <tr>\n",
       "      <th>filipino</th>\n",
       "      <td>salt</td>\n",
       "      <td>garlic</td>\n",
       "      <td>water</td>\n",
       "      <td>onions</td>\n",
       "      <td>soy sauce</td>\n",
       "      <td>pepper</td>\n",
       "      <td>oil</td>\n",
       "      <td>sugar</td>\n",
       "      <td>carrots</td>\n",
       "      <td>ground black pepper</td>\n",
       "    </tr>\n",
       "    <tr>\n",
       "      <th>irish</th>\n",
       "      <td>salt</td>\n",
       "      <td>all-purpose flour</td>\n",
       "      <td>butter</td>\n",
       "      <td>onions</td>\n",
       "      <td>sugar</td>\n",
       "      <td>potatoes</td>\n",
       "      <td>baking soda</td>\n",
       "      <td>baking powder</td>\n",
       "      <td>milk</td>\n",
       "      <td>carrots</td>\n",
       "    </tr>\n",
       "    <tr>\n",
       "      <th>jamaican</th>\n",
       "      <td>salt</td>\n",
       "      <td>onions</td>\n",
       "      <td>water</td>\n",
       "      <td>garlic</td>\n",
       "      <td>ground allspice</td>\n",
       "      <td>pepper</td>\n",
       "      <td>scallions</td>\n",
       "      <td>dried thyme</td>\n",
       "      <td>black pepper</td>\n",
       "      <td>garlic cloves</td>\n",
       "    </tr>\n",
       "    <tr>\n",
       "      <th>russian</th>\n",
       "      <td>salt</td>\n",
       "      <td>sugar</td>\n",
       "      <td>onions</td>\n",
       "      <td>all-purpose flour</td>\n",
       "      <td>sour cream</td>\n",
       "      <td>eggs</td>\n",
       "      <td>water</td>\n",
       "      <td>butter</td>\n",
       "      <td>unsalted butter</td>\n",
       "      <td>large eggs</td>\n",
       "    </tr>\n",
       "    <tr>\n",
       "      <th>brazilian</th>\n",
       "      <td>salt</td>\n",
       "      <td>onions</td>\n",
       "      <td>olive oil</td>\n",
       "      <td>lime</td>\n",
       "      <td>water</td>\n",
       "      <td>garlic cloves</td>\n",
       "      <td>garlic</td>\n",
       "      <td>cachaca</td>\n",
       "      <td>sugar</td>\n",
       "      <td>tomatoes</td>\n",
       "    </tr>\n",
       "  </tbody>\n",
       "</table>\n",
       "</div>"
      ],
      "text/plain": [
       "                      1                  2                  3   \\\n",
       "italian             salt          olive oil      garlic cloves   \n",
       "mexican             salt             onions       ground cumin   \n",
       "southern_us         salt             butter  all-purpose flour   \n",
       "indian              salt             onions       garam masala   \n",
       "chinese        soy sauce         sesame oil               salt   \n",
       "french              salt              sugar  all-purpose flour   \n",
       "cajun_creole        salt             onions             garlic   \n",
       "thai          fish sauce             garlic               salt   \n",
       "japanese       soy sauce               salt              mirin   \n",
       "greek               salt          olive oil      dried oregano   \n",
       "spanish             salt          olive oil      garlic cloves   \n",
       "korean         soy sauce         sesame oil             garlic   \n",
       "vietnamese    fish sauce              sugar               salt   \n",
       "moroccan            salt          olive oil       ground cumin   \n",
       "british             salt  all-purpose flour             butter   \n",
       "filipino            salt             garlic              water   \n",
       "irish               salt  all-purpose flour             butter   \n",
       "jamaican            salt             onions              water   \n",
       "russian             salt              sugar             onions   \n",
       "brazilian           salt             onions          olive oil   \n",
       "\n",
       "                                  4                     5   \\\n",
       "italian       grated parmesan cheese                garlic   \n",
       "mexican                       garlic             olive oil   \n",
       "southern_us                    sugar            large eggs   \n",
       "indian                         water       ground turmeric   \n",
       "chinese                  corn starch                 sugar   \n",
       "french               unsalted butter             olive oil   \n",
       "cajun_creole       green bell pepper                butter   \n",
       "thai                    coconut milk         vegetable oil   \n",
       "japanese                       sugar                 water   \n",
       "greek                  garlic cloves  feta cheese crumbles   \n",
       "spanish       extra-virgin olive oil                onions   \n",
       "korean                  green onions                 sugar   \n",
       "vietnamese                    garlic                 water   \n",
       "moroccan                      onions       ground cinnamon   \n",
       "british                         milk                  eggs   \n",
       "filipino                      onions             soy sauce   \n",
       "irish                         onions                 sugar   \n",
       "jamaican                      garlic       ground allspice   \n",
       "russian            all-purpose flour            sour cream   \n",
       "brazilian                       lime                 water   \n",
       "\n",
       "                                  6                       7   \\\n",
       "italian          ground black pepper  extra-virgin olive oil   \n",
       "mexican                 chili powder        jalapeno chilies   \n",
       "southern_us            baking powder                   water   \n",
       "indian                        garlic              cumin seed   \n",
       "chinese                       garlic                   water   \n",
       "french                        butter                   water   \n",
       "cajun_creole               olive oil          cayenne pepper   \n",
       "thai                       soy sauce                   sugar   \n",
       "japanese                        sake            rice vinegar   \n",
       "greek         extra-virgin olive oil       fresh lemon juice   \n",
       "spanish                        water                tomatoes   \n",
       "korean                          salt                   water   \n",
       "vietnamese                   carrots               soy sauce   \n",
       "moroccan               garlic cloves                   water   \n",
       "british              unsalted butter                   sugar   \n",
       "filipino                      pepper                     oil   \n",
       "irish                       potatoes             baking soda   \n",
       "jamaican                      pepper               scallions   \n",
       "russian                         eggs                   water   \n",
       "brazilian              garlic cloves                  garlic   \n",
       "\n",
       "                               8                  9                    10  \n",
       "italian                    onions              water               butter  \n",
       "mexican                sour cream            avocado       corn tortillas  \n",
       "southern_us       unsalted butter               milk           buttermilk  \n",
       "indian               ground cumin      vegetable oil                  oil  \n",
       "chinese              green onions      vegetable oil            scallions  \n",
       "french                 large eggs      garlic cloves  ground black pepper  \n",
       "cajun_creole      cajun seasoning  all-purpose flour                water  \n",
       "thai                        water      garlic cloves     fresh lime juice  \n",
       "japanese            vegetable oil          scallions               ginger  \n",
       "greek         ground black pepper             garlic               pepper  \n",
       "spanish       ground black pepper    red bell pepper               pepper  \n",
       "korean               sesame seeds             onions            scallions  \n",
       "vietnamese               shallots      garlic cloves        vegetable oil  \n",
       "moroccan            ground ginger            carrots              paprika  \n",
       "british                    onions      baking powder           large eggs  \n",
       "filipino                    sugar            carrots  ground black pepper  \n",
       "irish               baking powder               milk              carrots  \n",
       "jamaican              dried thyme       black pepper        garlic cloves  \n",
       "russian                    butter    unsalted butter           large eggs  \n",
       "brazilian                 cachaca              sugar             tomatoes  "
      ]
     },
     "execution_count": 16,
     "metadata": {},
     "output_type": "execute_result"
    }
   ],
   "source": [
    "top_10 = []\n",
    "for c in counters:\n",
    "    top_10_c = counters[c].most_common(10)\n",
    "    top_10.append(items[0] for items in top_10_c)\n",
    "df_top_10 = pd.DataFrame(top_10, index=[c for c in counters],\n",
    "            columns=range(1, 11))\n",
    "df_top_10"
   ]
  },
  {
   "cell_type": "markdown",
   "metadata": {},
   "source": [
    "We can see that salt, soy sauce a fish sauce are three ingredients that appear most frequently in every cusine. We are looking for ingredients which will carry a lot of unique information about the given cuisine."
   ]
  },
  {
   "cell_type": "markdown",
   "metadata": {},
   "source": [
    "On the other hand, below listed ingredients are used very sparsely in cuisines. Later in the data preprocessing we will remove ingredients with a low frequency of occurence."
   ]
  },
  {
   "cell_type": "code",
   "execution_count": 17,
   "metadata": {},
   "outputs": [
    {
     "data": {
      "text/html": [
       "<div>\n",
       "<style scoped>\n",
       "    .dataframe tbody tr th:only-of-type {\n",
       "        vertical-align: middle;\n",
       "    }\n",
       "\n",
       "    .dataframe tbody tr th {\n",
       "        vertical-align: top;\n",
       "    }\n",
       "\n",
       "    .dataframe thead th {\n",
       "        text-align: right;\n",
       "    }\n",
       "</style>\n",
       "<table border=\"1\" class=\"dataframe\">\n",
       "  <thead>\n",
       "    <tr style=\"text-align: right;\">\n",
       "      <th></th>\n",
       "      <th>1</th>\n",
       "      <th>2</th>\n",
       "      <th>3</th>\n",
       "      <th>4</th>\n",
       "      <th>5</th>\n",
       "      <th>6</th>\n",
       "      <th>7</th>\n",
       "      <th>8</th>\n",
       "      <th>9</th>\n",
       "      <th>10</th>\n",
       "    </tr>\n",
       "  </thead>\n",
       "  <tbody>\n",
       "    <tr>\n",
       "      <th>italian</th>\n",
       "      <td>tomato garlic pasta sauce</td>\n",
       "      <td>shrimp shells</td>\n",
       "      <td>pork meat</td>\n",
       "      <td>extra wide egg noodles</td>\n",
       "      <td>chipotle sauce</td>\n",
       "      <td>red</td>\n",
       "      <td>rotini pasta, cook and drain</td>\n",
       "      <td>sponge</td>\n",
       "      <td>andouille chicken sausage</td>\n",
       "      <td>2% milk shredded mozzarella cheese</td>\n",
       "    </tr>\n",
       "    <tr>\n",
       "      <th>mexican</th>\n",
       "      <td>cheddar cheese soup</td>\n",
       "      <td>crushed cheese crackers</td>\n",
       "      <td>Manzanilla olives</td>\n",
       "      <td>black tea</td>\n",
       "      <td>ground sausage</td>\n",
       "      <td>Daiya</td>\n",
       "      <td>Oscar Mayer Deli Fresh Smoked Ham</td>\n",
       "      <td>game</td>\n",
       "      <td>whole wheat penne pasta</td>\n",
       "      <td>octopuses</td>\n",
       "    </tr>\n",
       "    <tr>\n",
       "      <th>southern_us</th>\n",
       "      <td>safflower</td>\n",
       "      <td>sea salt flakes</td>\n",
       "      <td>Lipton® Iced Tea Brew Family Size Tea Bags</td>\n",
       "      <td>Balsamico Bianco</td>\n",
       "      <td>cholesterol free egg substitute</td>\n",
       "      <td>orange glaze</td>\n",
       "      <td>citrus</td>\n",
       "      <td>italian sausage</td>\n",
       "      <td>bottled lime juice</td>\n",
       "      <td>grana padano</td>\n",
       "    </tr>\n",
       "    <tr>\n",
       "      <th>indian</th>\n",
       "      <td>toasted sesame oil</td>\n",
       "      <td>curry mix</td>\n",
       "      <td>kiwi</td>\n",
       "      <td>swordfish</td>\n",
       "      <td>dried Thai chili</td>\n",
       "      <td>fresh rosemary</td>\n",
       "      <td>celery root</td>\n",
       "      <td>orange slices</td>\n",
       "      <td>almond extract</td>\n",
       "      <td>celtic salt</td>\n",
       "    </tr>\n",
       "    <tr>\n",
       "      <th>chinese</th>\n",
       "      <td>lop chong</td>\n",
       "      <td>lamb chops</td>\n",
       "      <td>seasoning salt</td>\n",
       "      <td>flat leaf parsley</td>\n",
       "      <td>cola</td>\n",
       "      <td>instant white rice</td>\n",
       "      <td>creole seasoning</td>\n",
       "      <td>fresh thyme leaves</td>\n",
       "      <td>chuck</td>\n",
       "      <td>tempeh</td>\n",
       "    </tr>\n",
       "    <tr>\n",
       "      <th>french</th>\n",
       "      <td>meringue</td>\n",
       "      <td>unsalted shelled pistachio</td>\n",
       "      <td>light beer</td>\n",
       "      <td>dried beans</td>\n",
       "      <td>black bass</td>\n",
       "      <td>chocolate flavored liqueur</td>\n",
       "      <td>green lentil</td>\n",
       "      <td>whole wheat peasant bread</td>\n",
       "      <td>chocolate covered coffee beans</td>\n",
       "      <td>cooked turkey</td>\n",
       "    </tr>\n",
       "    <tr>\n",
       "      <th>cajun_creole</th>\n",
       "      <td>golden mushroom soup</td>\n",
       "      <td>vegetable bouillon</td>\n",
       "      <td>crisco</td>\n",
       "      <td>Oscar Mayer Cotto Salami</td>\n",
       "      <td>Oscar Mayer Deli Fresh Smoked Ham</td>\n",
       "      <td>Kraft Slim Cut Mozzarella Cheese Slices</td>\n",
       "      <td>KRAFT Zesty Italian Dressing</td>\n",
       "      <td>shredded pepper jack cheese</td>\n",
       "      <td>chicken parts</td>\n",
       "      <td>fresh chevre</td>\n",
       "    </tr>\n",
       "    <tr>\n",
       "      <th>thai</th>\n",
       "      <td>ciabatta loaf</td>\n",
       "      <td>cooking cream</td>\n",
       "      <td>apple juice concentrate</td>\n",
       "      <td>pork back ribs</td>\n",
       "      <td>crushed pineapple</td>\n",
       "      <td>nori flakes</td>\n",
       "      <td>linguini</td>\n",
       "      <td>pork spare ribs</td>\n",
       "      <td>riblets</td>\n",
       "      <td>kumquats</td>\n",
       "    </tr>\n",
       "    <tr>\n",
       "      <th>japanese</th>\n",
       "      <td>dried lentils</td>\n",
       "      <td>celery seed</td>\n",
       "      <td>tongue</td>\n",
       "      <td>cilantro stems</td>\n",
       "      <td>serrano peppers</td>\n",
       "      <td>teriyaki marinade</td>\n",
       "      <td>chinese black mushrooms</td>\n",
       "      <td>oloroso sherry</td>\n",
       "      <td>flowering chinese chives</td>\n",
       "      <td>snappers</td>\n",
       "    </tr>\n",
       "    <tr>\n",
       "      <th>greek</th>\n",
       "      <td>pomegranate</td>\n",
       "      <td>skinless chicken breasts</td>\n",
       "      <td>Hidden Valley® Greek Yogurt Original Ranch® Di...</td>\n",
       "      <td>sliced fresh fruit</td>\n",
       "      <td>dried porcini mushrooms</td>\n",
       "      <td>manouri</td>\n",
       "      <td>walnut halves</td>\n",
       "      <td>creamy peanut butter</td>\n",
       "      <td>whole peeled tomatoes</td>\n",
       "      <td>pizza crust</td>\n",
       "    </tr>\n",
       "    <tr>\n",
       "      <th>spanish</th>\n",
       "      <td>scallion greens</td>\n",
       "      <td>ground cayenne pepper</td>\n",
       "      <td>shucked oysters</td>\n",
       "      <td>black salt</td>\n",
       "      <td>chickpea flour</td>\n",
       "      <td>sardines</td>\n",
       "      <td>matzo meal</td>\n",
       "      <td>red bliss potato</td>\n",
       "      <td>green pumpkin seeds</td>\n",
       "      <td>unsalted pistachios</td>\n",
       "    </tr>\n",
       "    <tr>\n",
       "      <th>korean</th>\n",
       "      <td>chilli bean sauce</td>\n",
       "      <td>soba</td>\n",
       "      <td>radish sprouts</td>\n",
       "      <td>pork baby back ribs</td>\n",
       "      <td>malt syrup</td>\n",
       "      <td>wheat</td>\n",
       "      <td>organic sugar</td>\n",
       "      <td>ketjap</td>\n",
       "      <td>tomato ketchup</td>\n",
       "      <td>sambal chile paste</td>\n",
       "    </tr>\n",
       "    <tr>\n",
       "      <th>vietnamese</th>\n",
       "      <td>savory</td>\n",
       "      <td>pak choi</td>\n",
       "      <td>flour tortillas</td>\n",
       "      <td>enokitake</td>\n",
       "      <td>orange zest</td>\n",
       "      <td>radish sprouts</td>\n",
       "      <td>whole grain baguette</td>\n",
       "      <td>dry white wine</td>\n",
       "      <td>bread crumbs</td>\n",
       "      <td>green cardamom pods</td>\n",
       "    </tr>\n",
       "    <tr>\n",
       "      <th>moroccan</th>\n",
       "      <td>sour cream</td>\n",
       "      <td>mango</td>\n",
       "      <td>boneless lamb</td>\n",
       "      <td>minced onion</td>\n",
       "      <td>peeled tomatoes</td>\n",
       "      <td>dukkah</td>\n",
       "      <td>runny honey</td>\n",
       "      <td>orange marmalade</td>\n",
       "      <td>no-salt-added diced tomatoes</td>\n",
       "      <td>non-fat sour cream</td>\n",
       "    </tr>\n",
       "    <tr>\n",
       "      <th>british</th>\n",
       "      <td>wholemeal flour</td>\n",
       "      <td>cream of mushroom soup</td>\n",
       "      <td>pork and beans</td>\n",
       "      <td>star anise</td>\n",
       "      <td>coarse kosher salt</td>\n",
       "      <td>fresh basil leaves</td>\n",
       "      <td>arrowroot</td>\n",
       "      <td>black truffles</td>\n",
       "      <td>puff paste</td>\n",
       "      <td>minced meat</td>\n",
       "    </tr>\n",
       "    <tr>\n",
       "      <th>filipino</th>\n",
       "      <td>frozen peas and carrots</td>\n",
       "      <td>superfine sugar</td>\n",
       "      <td>chickpeas</td>\n",
       "      <td>mustard seeds</td>\n",
       "      <td>juniper berries</td>\n",
       "      <td>sliced apples</td>\n",
       "      <td>apple brandy</td>\n",
       "      <td>butter oil</td>\n",
       "      <td>corn kernel whole</td>\n",
       "      <td>white wine</td>\n",
       "    </tr>\n",
       "    <tr>\n",
       "      <th>irish</th>\n",
       "      <td>hot tea</td>\n",
       "      <td>sourdough starter</td>\n",
       "      <td>citrus fruit</td>\n",
       "      <td>dried apple</td>\n",
       "      <td>steak sauce</td>\n",
       "      <td>coffee beans</td>\n",
       "      <td>espresso beans</td>\n",
       "      <td>chocolate curls</td>\n",
       "      <td>Challenge Butter</td>\n",
       "      <td>ranch dressing</td>\n",
       "    </tr>\n",
       "    <tr>\n",
       "      <th>jamaican</th>\n",
       "      <td>sugar pumpkin</td>\n",
       "      <td>softened butter</td>\n",
       "      <td>sandwiches</td>\n",
       "      <td>green leaf lettuce</td>\n",
       "      <td>snapper fillets</td>\n",
       "      <td>kaiser rolls</td>\n",
       "      <td>ground turkey</td>\n",
       "      <td>large egg whites</td>\n",
       "      <td>jicama</td>\n",
       "      <td>Country Crock® Spread</td>\n",
       "    </tr>\n",
       "    <tr>\n",
       "      <th>russian</th>\n",
       "      <td>dry red wine</td>\n",
       "      <td>pork sirloin</td>\n",
       "      <td>chicken cutlets</td>\n",
       "      <td>lemon peel</td>\n",
       "      <td>boysenberries</td>\n",
       "      <td>prunes</td>\n",
       "      <td>dry mustard</td>\n",
       "      <td>cocktail pumpernickel bread</td>\n",
       "      <td>low-fat buttermilk</td>\n",
       "      <td>pickling spices</td>\n",
       "    </tr>\n",
       "    <tr>\n",
       "      <th>brazilian</th>\n",
       "      <td>dijon style mustard</td>\n",
       "      <td>syrup</td>\n",
       "      <td>serrano peppers</td>\n",
       "      <td>sour cherries</td>\n",
       "      <td>butter-margarine blend</td>\n",
       "      <td>bay scallops</td>\n",
       "      <td>blood orange</td>\n",
       "      <td>dark rum</td>\n",
       "      <td>nonstick spray</td>\n",
       "      <td>pumpkin seeds</td>\n",
       "    </tr>\n",
       "  </tbody>\n",
       "</table>\n",
       "</div>"
      ],
      "text/plain": [
       "                                     1                           2   \\\n",
       "italian       tomato garlic pasta sauce               shrimp shells   \n",
       "mexican             cheddar cheese soup     crushed cheese crackers   \n",
       "southern_us                   safflower             sea salt flakes   \n",
       "indian               toasted sesame oil                   curry mix   \n",
       "chinese                       lop chong                  lamb chops   \n",
       "french                         meringue  unsalted shelled pistachio   \n",
       "cajun_creole       golden mushroom soup          vegetable bouillon   \n",
       "thai                      ciabatta loaf               cooking cream   \n",
       "japanese                  dried lentils                 celery seed   \n",
       "greek                       pomegranate    skinless chicken breasts   \n",
       "spanish                 scallion greens       ground cayenne pepper   \n",
       "korean                chilli bean sauce                        soba   \n",
       "vietnamese                       savory                    pak choi   \n",
       "moroccan                     sour cream                       mango   \n",
       "british                 wholemeal flour      cream of mushroom soup   \n",
       "filipino        frozen peas and carrots             superfine sugar   \n",
       "irish                           hot tea           sourdough starter   \n",
       "jamaican                  sugar pumpkin             softened butter   \n",
       "russian                    dry red wine                pork sirloin   \n",
       "brazilian           dijon style mustard                       syrup   \n",
       "\n",
       "                                                             3   \\\n",
       "italian                                               pork meat   \n",
       "mexican                                       Manzanilla olives   \n",
       "southern_us          Lipton® Iced Tea Brew Family Size Tea Bags   \n",
       "indian                                                     kiwi   \n",
       "chinese                                          seasoning salt   \n",
       "french                                               light beer   \n",
       "cajun_creole                                             crisco   \n",
       "thai                                    apple juice concentrate   \n",
       "japanese                                                 tongue   \n",
       "greek         Hidden Valley® Greek Yogurt Original Ranch® Di...   \n",
       "spanish                                         shucked oysters   \n",
       "korean                                           radish sprouts   \n",
       "vietnamese                                      flour tortillas   \n",
       "moroccan                                          boneless lamb   \n",
       "british                                          pork and beans   \n",
       "filipino                                              chickpeas   \n",
       "irish                                              citrus fruit   \n",
       "jamaican                                             sandwiches   \n",
       "russian                                         chicken cutlets   \n",
       "brazilian                                       serrano peppers   \n",
       "\n",
       "                                    4                                  5   \\\n",
       "italian         extra wide egg noodles                     chipotle sauce   \n",
       "mexican                      black tea                     ground sausage   \n",
       "southern_us           Balsamico Bianco    cholesterol free egg substitute   \n",
       "indian                       swordfish                   dried Thai chili   \n",
       "chinese              flat leaf parsley                               cola   \n",
       "french                     dried beans                         black bass   \n",
       "cajun_creole  Oscar Mayer Cotto Salami  Oscar Mayer Deli Fresh Smoked Ham   \n",
       "thai                    pork back ribs                  crushed pineapple   \n",
       "japanese                cilantro stems                    serrano peppers   \n",
       "greek               sliced fresh fruit            dried porcini mushrooms   \n",
       "spanish                     black salt                     chickpea flour   \n",
       "korean             pork baby back ribs                         malt syrup   \n",
       "vietnamese                   enokitake                        orange zest   \n",
       "moroccan                  minced onion                    peeled tomatoes   \n",
       "british                     star anise                 coarse kosher salt   \n",
       "filipino                 mustard seeds                    juniper berries   \n",
       "irish                      dried apple                        steak sauce   \n",
       "jamaican            green leaf lettuce                    snapper fillets   \n",
       "russian                     lemon peel                      boysenberries   \n",
       "brazilian                sour cherries             butter-margarine blend   \n",
       "\n",
       "                                                   6   \\\n",
       "italian                                           red   \n",
       "mexican                                         Daiya   \n",
       "southern_us                              orange glaze   \n",
       "indian                                 fresh rosemary   \n",
       "chinese                            instant white rice   \n",
       "french                     chocolate flavored liqueur   \n",
       "cajun_creole  Kraft Slim Cut Mozzarella Cheese Slices   \n",
       "thai                                      nori flakes   \n",
       "japanese                            teriyaki marinade   \n",
       "greek                                         manouri   \n",
       "spanish                                      sardines   \n",
       "korean                                          wheat   \n",
       "vietnamese                             radish sprouts   \n",
       "moroccan                                       dukkah   \n",
       "british                            fresh basil leaves   \n",
       "filipino                                sliced apples   \n",
       "irish                                    coffee beans   \n",
       "jamaican                                 kaiser rolls   \n",
       "russian                                        prunes   \n",
       "brazilian                                bay scallops   \n",
       "\n",
       "                                             7                            8   \\\n",
       "italian            rotini pasta, cook and drain                       sponge   \n",
       "mexican       Oscar Mayer Deli Fresh Smoked Ham                         game   \n",
       "southern_us                              citrus              italian sausage   \n",
       "indian                              celery root                orange slices   \n",
       "chinese                        creole seasoning           fresh thyme leaves   \n",
       "french                             green lentil    whole wheat peasant bread   \n",
       "cajun_creole       KRAFT Zesty Italian Dressing  shredded pepper jack cheese   \n",
       "thai                                   linguini              pork spare ribs   \n",
       "japanese                chinese black mushrooms               oloroso sherry   \n",
       "greek                             walnut halves         creamy peanut butter   \n",
       "spanish                              matzo meal             red bliss potato   \n",
       "korean                            organic sugar                       ketjap   \n",
       "vietnamese                 whole grain baguette               dry white wine   \n",
       "moroccan                            runny honey             orange marmalade   \n",
       "british                               arrowroot               black truffles   \n",
       "filipino                           apple brandy                   butter oil   \n",
       "irish                            espresso beans              chocolate curls   \n",
       "jamaican                          ground turkey             large egg whites   \n",
       "russian                             dry mustard  cocktail pumpernickel bread   \n",
       "brazilian                          blood orange                     dark rum   \n",
       "\n",
       "                                          9   \\\n",
       "italian            andouille chicken sausage   \n",
       "mexican              whole wheat penne pasta   \n",
       "southern_us               bottled lime juice   \n",
       "indian                        almond extract   \n",
       "chinese                                chuck   \n",
       "french        chocolate covered coffee beans   \n",
       "cajun_creole                   chicken parts   \n",
       "thai                                 riblets   \n",
       "japanese            flowering chinese chives   \n",
       "greek                  whole peeled tomatoes   \n",
       "spanish                  green pumpkin seeds   \n",
       "korean                        tomato ketchup   \n",
       "vietnamese                      bread crumbs   \n",
       "moroccan        no-salt-added diced tomatoes   \n",
       "british                           puff paste   \n",
       "filipino                   corn kernel whole   \n",
       "irish                       Challenge Butter   \n",
       "jamaican                              jicama   \n",
       "russian                   low-fat buttermilk   \n",
       "brazilian                     nonstick spray   \n",
       "\n",
       "                                              10  \n",
       "italian       2% milk shredded mozzarella cheese  \n",
       "mexican                                octopuses  \n",
       "southern_us                         grana padano  \n",
       "indian                               celtic salt  \n",
       "chinese                                   tempeh  \n",
       "french                             cooked turkey  \n",
       "cajun_creole                        fresh chevre  \n",
       "thai                                    kumquats  \n",
       "japanese                                snappers  \n",
       "greek                                pizza crust  \n",
       "spanish                      unsalted pistachios  \n",
       "korean                        sambal chile paste  \n",
       "vietnamese                   green cardamom pods  \n",
       "moroccan                      non-fat sour cream  \n",
       "british                              minced meat  \n",
       "filipino                              white wine  \n",
       "irish                             ranch dressing  \n",
       "jamaican                   Country Crock® Spread  \n",
       "russian                          pickling spices  \n",
       "brazilian                          pumpkin seeds  "
      ]
     },
     "execution_count": 17,
     "metadata": {},
     "output_type": "execute_result"
    }
   ],
   "source": [
    "lower_10 = []\n",
    "for c in counters:\n",
    "    lower_10_c = list(reversed(counters[c].most_common()))[0:10]\n",
    "    lower_10.append(items[0] for items in lower_10_c)\n",
    "df_lower_10 = pd.DataFrame(lower_10, index=[c for c in counters],\n",
    "            columns=range(1, 11))\n",
    "df_lower_10"
   ]
  },
  {
   "cell_type": "markdown",
   "metadata": {},
   "source": [
    "## Part 2: Data preprocessing"
   ]
  },
  {
   "cell_type": "markdown",
   "metadata": {},
   "source": [
    "We will do some preprocessing steps to clean our data from redundant stop words, numbers and finally encode them into a form recognizable by our models. We will do the following steps:\n",
    "\n",
    "- __Ingredient concatenation__ - ingredients are given in a list, which we will transform into a string\n",
    "- __Normalizing Case__ - converting all words to lowercase\n",
    "- __Punctation removal__ - removing any redundant symbols from the set '!\"#$%&'()*+,-./:;<=>?@[\\]^_`{|}~'\n",
    "- __Digits removal__\n",
    "- __Stemming__ - process of reducing words to their word stem, base or root form.\n",
    "- __Rare words removal__ - words that appear less then 3 times will be removed from the ingredients, as their occurence does not provide enough prove to tell it discriminates one cuisine from another."
   ]
  },
  {
   "cell_type": "markdown",
   "metadata": {},
   "source": [
    "Let's start by loading train and test sets and creating a string for each recipe by concatenating its ingredients and then applying preprocessing on such data:"
   ]
  },
  {
   "cell_type": "code",
   "execution_count": 94,
   "metadata": {},
   "outputs": [],
   "source": [
    "# ingredient concatenation\n",
    "df['ingredient_strings'] = df['ingredients'].map(\" \".join)\n",
    "df['ingredient_strings'] = df['ingredient_strings'].apply(lambda x: x.split())\n",
    "df_test['ingredient_strings'] = df_test['ingredients'].map(\" \".join)\n",
    "df_test['ingredient_strings'] = df_test['ingredient_strings'].apply(lambda x: x.split())"
   ]
  },
  {
   "cell_type": "code",
   "execution_count": 95,
   "metadata": {},
   "outputs": [],
   "source": [
    "import nltk\n",
    "import re\n",
    "from nltk.stem import PorterStemmer\n",
    "st = PorterStemmer()\n",
    "\n",
    "def preprocess(text):\n",
    "    # lowercasing\n",
    "    text = text.lower()\n",
    "    \n",
    "    # punctation removal\n",
    "    for punctuation in string.punctuation:\n",
    "        text = text.replace(punctuation, '')\n",
    "    \n",
    "    # digits and trademark symbols removal\n",
    "    text = re.sub(r\"(\\d)\", \"\", text)\n",
    "    text = re.sub(u'\\w*\\u2122', '', text)\n",
    "    text = re.sub(u'\\w*\\u00ae', '', text)\n",
    "        \n",
    "    # stemming\n",
    "    text = st.stem(text)\n",
    "    \n",
    "    return text"
   ]
  },
  {
   "cell_type": "code",
   "execution_count": 96,
   "metadata": {},
   "outputs": [],
   "source": [
    "df['ingredient_strings'] = df['ingredient_strings'].apply(lambda i: list(map(lambda x: preprocess(x), i)))\n",
    "df_test['ingredient_strings'] = df_test['ingredient_strings'].apply(lambda i: list(map(lambda x: preprocess(x), i)))"
   ]
  },
  {
   "cell_type": "markdown",
   "metadata": {},
   "source": [
    "Now we will create a corpus consisting of the words from both training and testing data set to get a list of rare words:"
   ]
  },
  {
   "cell_type": "code",
   "execution_count": 97,
   "metadata": {},
   "outputs": [],
   "source": [
    "all_ingredients = pd.concat([df['ingredient_strings'], df_test['ingredient_strings']])\n",
    "\n",
    "ingredients_counts_all = {}\n",
    "\n",
    "for recipe_ingr in all_ingredients:\n",
    "    for ingr in recipe_ingr:\n",
    "        count = ingredients_counts_all.get(ingr.lower(), 0)\n",
    "        ingredients_counts_all[ingr.lower()] = count + 2\n",
    "\n",
    "ingredients_counts_list_all = dict(ingredients_counts_all.items())\n",
    "# get a list of words which appear 3 or less times in the train set\n",
    "rare_words = [i for i in ingredients_counts_list_all if ingredients_counts_list_all[i] <= 3] "
   ]
  },
  {
   "cell_type": "code",
   "execution_count": 98,
   "metadata": {},
   "outputs": [
    {
     "name": "stdout",
     "output_type": "stream",
     "text": [
      "['bark', 'membrillo', 'muscavado', 'liquoric', 'aram', 'romana', 'hurst', 'harvest', 'fattrim', 'abbamel', 'sablefish', 'fiber', 'lillet', 'xuxu', 'neapolitan', 'st', 'germain', 'zatarain’', 'peko', 'sobrasada', 'ti', 'parslei', 'argo', 'mantou', 'pekin', 'stolichnaya', 'shiromiso', 'fiddlehead', 'skippi', 'hoi', 'mixer', 'superior', 'margherita', 'nian', 'gao', 'milkfat', 'qua', 'burro', 'ocean', 'submarin', 'calabres', 'gravlax', 'bream', 'belacan', 'masur', 'redcurr', 'hickoryflavor', 'comic', 'betti', 'pullman', 'nonhydrogen', 'lambrusco', 'barramundi', 'longaniza', 'dhaniya', 'breader', 'tradicion', 'tast', 'asakusa', 'estancia', 'poundcak', 'niblet', 'pinhead', 'opo', 'pat', 'wok', 'oli', 'woksau', 'gember', 'knoflook', 'rape', 'india', 'chilcostl', 'blackcurr', 'highfructos', 'preshr', 'ikura', 'maifun', 'freezedri', 'barberri', 'foccacia', 'robert', 'mondavi', 'fume', 'wolfberri', 'cavend', 'sheepshead', 'vera', 'secret', 'haloumi', 'macaron', 'arrabbiata', 'hillshir', 'scone', 'orchid', 'vegeta', 'tuscan', 'martha', 'pour', 'gel']\n"
     ]
    }
   ],
   "source": [
    "print(rare_words[:100])"
   ]
  },
  {
   "cell_type": "markdown",
   "metadata": {},
   "source": [
    "Not frequent ingredients will be removed:"
   ]
  },
  {
   "cell_type": "code",
   "execution_count": 99,
   "metadata": {},
   "outputs": [],
   "source": [
    "df['ingredient_strings'] = df['ingredient_strings'].apply(lambda x: [item for item in x if item not in rare_words and item is not None and item is not \"\"])\n",
    "df_test['ingredient_strings'] = df_test['ingredient_strings'].apply(lambda x: [item for item in x if item not in rare_words and item is not None and item is not \"\"])"
   ]
  },
  {
   "cell_type": "code",
   "execution_count": 100,
   "metadata": {},
   "outputs": [
    {
     "name": "stdout",
     "output_type": "stream",
     "text": [
      "Created corpus consists of 2785 unique ingredients.\n"
     ]
    }
   ],
   "source": [
    "all_ingredients = pd.concat([df['ingredient_strings'], df_test['ingredient_strings']])\n",
    "vocabulary_size = len(ingredients_counts_all)\n",
    "print('Created corpus consists of ' + str(vocabulary_size) + ' unique ingredients.')"
   ]
  },
  {
   "cell_type": "markdown",
   "metadata": {},
   "source": [
    "### Data encoding"
   ]
  },
  {
   "cell_type": "markdown",
   "metadata": {},
   "source": [
    "### <font color='#2ecc71'><b>1. Features encoding</b></font>"
   ]
  },
  {
   "cell_type": "markdown",
   "metadata": {},
   "source": [
    "Ingredients and cuisines in the form of string need to be encoded into a numerical representations. We need to represent each recipe with a matrix. The problem is, that recipes are not of a uniform length because the number of ingredients varies. Textual data are often represented by a <font color='#2ecc71'><b>Vector Space Model</b></font> with TF-IDF weight, which indicate the number of times each term appeared in the document (recipe in our case) multiplied by the logarithm of number of times the term appeared in any document. As each ingredient appeares in the recipe only once, we decided to go for a simplified version of Vector Space Model called Document Term Matrix with weights taking on values 0 or 1. \n",
    "\n",
    "Therefore, each recipe will be a vector of length equal to the number of unique ingredients. Vector has 1 at the position of ingredient which appears in the recipe and 0 otherwise."
   ]
  },
  {
   "cell_type": "code",
   "execution_count": 101,
   "metadata": {},
   "outputs": [],
   "source": [
    "import tensorflow as tf\n",
    "from sklearn.feature_extraction.text import CountVectorizer"
   ]
  },
  {
   "cell_type": "code",
   "execution_count": 102,
   "metadata": {},
   "outputs": [],
   "source": [
    "all_ingredients_text = all_ingredients.map(\" \".join)\n",
    "cv = CountVectorizer().fit(all_ingredients_text)"
   ]
  },
  {
   "cell_type": "code",
   "execution_count": 184,
   "metadata": {},
   "outputs": [
    {
     "name": "stdout",
     "output_type": "stream",
     "text": [
      "['romain', 'lettuc', 'black', 'oliv', 'grape', 'tomato', 'garlic', 'pepper', 'purpl', 'onion', 'season', 'garbanzo', 'bean', 'feta', 'chees', 'crumbl', 'plain', 'flour', 'ground', 'salt', 'thyme', 'egg', 'green', 'yellow', 'corn', 'meal', 'milk', 'veget', 'oil', 'mayonais', 'cook', 'chili', 'grill', 'chicken', 'breast', 'powder', 'soy', 'sauc', 'butter', 'liver', 'water', 'wheat', 'shallot', 'cornflour', 'cayenn', 'past', 'lemon', 'juic', 'passata', 'cumin', 'boneless', 'skinless', 'thigh', 'garam', 'masala', 'doubl', 'cream', 'natur', 'yogurt', 'bay', 'leaf', 'sugar', 'fresh', 'ginger', 'root', 'cinnamon', 'vanilla', 'extract', 'bake', 'medium', 'shrimp', 'chop', 'cilantro', 'jalapeno', 'flat', 'parsley', 'skirt', 'steak', 'white', 'vinegar', 'sea', 'chorizo', 'sausag', 'pistachio', 'nut', 'almond', 'dri', 'cranberri', 'pineappl', 'pork', 'poblano', 'tortilla', 'cheddar', 'iceberg', 'lime', 'basil', 'extravirgin', 'kosher', 'pimento', 'sweet']\n"
     ]
    }
   ],
   "source": [
    "print(list(cv.vocabulary_.keys())[:100])"
   ]
  },
  {
   "cell_type": "code",
   "execution_count": 104,
   "metadata": {},
   "outputs": [],
   "source": [
    "# Fit on train and test sets:\n",
    "df['ingredient_strings'] = df['ingredient_strings'].map(\" \".join)\n",
    "df_test['ingredient_strings'] = df_test['ingredient_strings'].map(\" \".join)\n",
    "X = cv.transform(df['ingredient_strings'])\n",
    "X_test = cv.transform(df_test['ingredient_strings'])"
   ]
  },
  {
   "cell_type": "code",
   "execution_count": 105,
   "metadata": {},
   "outputs": [
    {
     "data": {
      "text/plain": [
       "(39774, 2275)"
      ]
     },
     "execution_count": 105,
     "metadata": {},
     "output_type": "execute_result"
    }
   ],
   "source": [
    "X.shape"
   ]
  },
  {
   "cell_type": "markdown",
   "metadata": {},
   "source": [
    "We have 2684 unique ingredients, therefore each vector represeting a recipe will be of size 2684."
   ]
  },
  {
   "cell_type": "markdown",
   "metadata": {},
   "source": [
    "### <font color='#2ecc71'><b>2. Labels encoding</b></font>"
   ]
  },
  {
   "cell_type": "markdown",
   "metadata": {},
   "source": [
    "We need to assign each cuisine a unique numerical identifier. We will use integer encoding for all our models except for the deep NN model, for which one-hot encoding will be used."
   ]
  },
  {
   "cell_type": "code",
   "execution_count": 106,
   "metadata": {},
   "outputs": [],
   "source": [
    "from sklearn.preprocessing import LabelEncoder\n",
    "from sklearn.preprocessing import OneHotEncoder"
   ]
  },
  {
   "cell_type": "code",
   "execution_count": 107,
   "metadata": {},
   "outputs": [],
   "source": [
    "text_labels = list(df['cuisine'].values)\n",
    "label_encoder = LabelEncoder()\n",
    "y = label_encoder.fit_transform(text_labels)"
   ]
  },
  {
   "cell_type": "markdown",
   "metadata": {},
   "source": [
    "Convert labels to one hot encoding"
   ]
  },
  {
   "cell_type": "code",
   "execution_count": 108,
   "metadata": {},
   "outputs": [
    {
     "name": "stderr",
     "output_type": "stream",
     "text": [
      "/usr/local/lib/python3.7/site-packages/sklearn/preprocessing/_encoders.py:371: FutureWarning: The handling of integer data will change in version 0.22. Currently, the categories are determined based on the range [0, max(values)], while in the future they will be determined based on the unique values.\n",
      "If you want the future behaviour and silence this warning, you can specify \"categories='auto'\".\n",
      "In case you used a LabelEncoder before this OneHotEncoder to convert the categories to integers, then you can now use the OneHotEncoder directly.\n",
      "  warnings.warn(msg, FutureWarning)\n"
     ]
    }
   ],
   "source": [
    "onehot_encoder = OneHotEncoder(sparse=False)\n",
    "y_1hot = y.reshape(len(y), 1)\n",
    "y_1hot = onehot_encoder.fit_transform(y_1hot)"
   ]
  },
  {
   "cell_type": "markdown",
   "metadata": {},
   "source": [
    "Labels with their corresponding string representations:"
   ]
  },
  {
   "cell_type": "code",
   "execution_count": 109,
   "metadata": {},
   "outputs": [
    {
     "name": "stdout",
     "output_type": "stream",
     "text": [
      "[(6, 'brazilian'), (16, 'british'), (4, 'cajun_creole'), (7, 'chinese'), (7, 'filipino'), (10, 'french'), (17, 'greek'), (9, 'indian'), (13, 'irish'), (9, 'italian'), (9, 'jamaican'), (3, 'japanese'), (9, 'korean'), (13, 'mexican'), (9, 'moroccan'), (7, 'russian'), (1, 'southern_us'), (9, 'spanish'), (18, 'thai'), (19, 'vietnamese')]\n"
     ]
    }
   ],
   "source": [
    "print(list(zip(y, label_encoder.classes_)))"
   ]
  },
  {
   "cell_type": "markdown",
   "metadata": {},
   "source": [
    "## Splitting data"
   ]
  },
  {
   "cell_type": "markdown",
   "metadata": {},
   "source": [
    "To be able to test the accuracy of our models, we will split the training data set into train and validation set with 80:20 ratio."
   ]
  },
  {
   "cell_type": "code",
   "execution_count": 110,
   "metadata": {},
   "outputs": [],
   "source": [
    "import numpy as np\n",
    "from sklearn.model_selection import train_test_split"
   ]
  },
  {
   "cell_type": "code",
   "execution_count": 111,
   "metadata": {},
   "outputs": [],
   "source": [
    "X_train, X_val, y_train, y_val = train_test_split(X, y, test_size=0.2, random_state=123)"
   ]
  },
  {
   "cell_type": "markdown",
   "metadata": {},
   "source": [
    "# Part 3: Choosing a predictive model"
   ]
  },
  {
   "cell_type": "markdown",
   "metadata": {},
   "source": [
    "## 1. Logistic Regression"
   ]
  },
  {
   "cell_type": "markdown",
   "metadata": {},
   "source": [
    "Now we will train a logistic regression on the training dataset:"
   ]
  },
  {
   "cell_type": "code",
   "execution_count": 112,
   "metadata": {},
   "outputs": [],
   "source": [
    "from sklearn.linear_model import LogisticRegression\n",
    "from sklearn import metrics"
   ]
  },
  {
   "cell_type": "code",
   "execution_count": 113,
   "metadata": {},
   "outputs": [
    {
     "name": "stderr",
     "output_type": "stream",
     "text": [
      "/usr/local/lib/python3.7/site-packages/sklearn/linear_model/logistic.py:433: FutureWarning: Default solver will be changed to 'lbfgs' in 0.22. Specify a solver to silence this warning.\n",
      "  FutureWarning)\n",
      "/usr/local/lib/python3.7/site-packages/sklearn/linear_model/logistic.py:460: FutureWarning: Default multi_class will be changed to 'auto' in 0.22. Specify the multi_class option to silence this warning.\n",
      "  \"this warning.\", FutureWarning)\n"
     ]
    },
    {
     "data": {
      "text/plain": [
       "LogisticRegression(C=1.0, class_weight=None, dual=False, fit_intercept=True,\n",
       "          intercept_scaling=1, max_iter=100, multi_class='warn',\n",
       "          n_jobs=None, penalty='l2', random_state=None, solver='warn',\n",
       "          tol=0.0001, verbose=0, warm_start=False)"
      ]
     },
     "execution_count": 113,
     "metadata": {},
     "output_type": "execute_result"
    }
   ],
   "source": [
    "logreg_model = LogisticRegression()\n",
    "logreg_model.fit(X_train, np.ndarray.flatten(y_train))"
   ]
  },
  {
   "cell_type": "code",
   "execution_count": 114,
   "metadata": {},
   "outputs": [],
   "source": [
    "y_train_hat = logreg_model.predict(X_train)\n",
    "y_val_hat = logreg_model.predict(X_val)"
   ]
  },
  {
   "cell_type": "code",
   "execution_count": 115,
   "metadata": {},
   "outputs": [
    {
     "name": "stdout",
     "output_type": "stream",
     "text": [
      "Train Accuracy: 0.8411326565888305\n",
      "Test Accuracy: 0.7866750471401635\n"
     ]
    }
   ],
   "source": [
    "print(\"Train Accuracy:\", metrics.accuracy_score(y_train, y_train_hat))\n",
    "print(\"Test Accuracy:\", metrics.accuracy_score(y_val, y_val_hat))"
   ]
  },
  {
   "cell_type": "markdown",
   "metadata": {},
   "source": [
    "## 2. Gaussian Bayes Classification"
   ]
  },
  {
   "cell_type": "code",
   "execution_count": 116,
   "metadata": {},
   "outputs": [],
   "source": [
    "from sklearn.naive_bayes import GaussianNB\n",
    "bayes_model = GaussianNB();\n",
    "bayes_model.fit(X_train.toarray(), np.ndarray.flatten(y_train));"
   ]
  },
  {
   "cell_type": "code",
   "execution_count": 117,
   "metadata": {},
   "outputs": [],
   "source": [
    "y_train_hat = bayes_model.predict(X_train.toarray())\n",
    "y_val_hat = bayes_model.predict(X_val.toarray())"
   ]
  },
  {
   "cell_type": "code",
   "execution_count": 118,
   "metadata": {},
   "outputs": [
    {
     "name": "stdout",
     "output_type": "stream",
     "text": [
      "Train Accuracy: 0.29611238568151105\n",
      "Test Accuracy: 0.23771213073538655\n"
     ]
    }
   ],
   "source": [
    "print(\"Train Accuracy:\", metrics.accuracy_score(y_train, y_train_hat))\n",
    "print(\"Test Accuracy:\", metrics.accuracy_score(y_val, y_val_hat))"
   ]
  },
  {
   "cell_type": "markdown",
   "metadata": {},
   "source": [
    "## 3. Random Forests Classifiers"
   ]
  },
  {
   "cell_type": "code",
   "execution_count": 119,
   "metadata": {},
   "outputs": [],
   "source": [
    "from sklearn.ensemble import RandomForestClassifier"
   ]
  },
  {
   "cell_type": "code",
   "execution_count": 120,
   "metadata": {},
   "outputs": [],
   "source": [
    "rf_model = RandomForestClassifier(n_estimators=100)"
   ]
  },
  {
   "cell_type": "code",
   "execution_count": 121,
   "metadata": {},
   "outputs": [
    {
     "data": {
      "text/plain": [
       "RandomForestClassifier(bootstrap=True, class_weight=None, criterion='gini',\n",
       "            max_depth=None, max_features='auto', max_leaf_nodes=None,\n",
       "            min_impurity_decrease=0.0, min_impurity_split=None,\n",
       "            min_samples_leaf=1, min_samples_split=2,\n",
       "            min_weight_fraction_leaf=0.0, n_estimators=100, n_jobs=None,\n",
       "            oob_score=False, random_state=None, verbose=0,\n",
       "            warm_start=False)"
      ]
     },
     "execution_count": 121,
     "metadata": {},
     "output_type": "execute_result"
    }
   ],
   "source": [
    "rf_model.fit(X_train, y_train)"
   ]
  },
  {
   "cell_type": "code",
   "execution_count": 122,
   "metadata": {},
   "outputs": [],
   "source": [
    "y_train_hat = rf_model.predict(X_train)\n",
    "y_val_hat = rf_model.predict(X_val)"
   ]
  },
  {
   "cell_type": "code",
   "execution_count": 123,
   "metadata": {},
   "outputs": [
    {
     "name": "stdout",
     "output_type": "stream",
     "text": [
      "Train Accuracy: 0.9997485778937113\n",
      "Test Accuracy: 0.7580138277812697\n"
     ]
    }
   ],
   "source": [
    "print(\"Train Accuracy:\", metrics.accuracy_score(y_train, y_train_hat))\n",
    "print(\"Test Accuracy:\", metrics.accuracy_score(y_val, y_val_hat))"
   ]
  },
  {
   "cell_type": "markdown",
   "metadata": {},
   "source": [
    "## 4. KNN Classifier"
   ]
  },
  {
   "cell_type": "code",
   "execution_count": 47,
   "metadata": {},
   "outputs": [],
   "source": [
    "from sklearn.neighbors import KNeighborsClassifier\n",
    "from sklearn.model_selection import GridSearchCV"
   ]
  },
  {
   "cell_type": "code",
   "execution_count": 48,
   "metadata": {},
   "outputs": [],
   "source": [
    "grid_param = {  \n",
    "    'n_neighbors': [3, 5, 7, 11, 15, 17]\n",
    "}"
   ]
  },
  {
   "cell_type": "code",
   "execution_count": 49,
   "metadata": {},
   "outputs": [
    {
     "data": {
      "text/plain": [
       "GridSearchCV(cv=5, error_score='raise-deprecating',\n",
       "       estimator=KNeighborsClassifier(algorithm='auto', leaf_size=30, metric='minkowski',\n",
       "           metric_params=None, n_jobs=None, n_neighbors=5, p=2,\n",
       "           weights='uniform'),\n",
       "       fit_params=None, iid='warn', n_jobs=-1,\n",
       "       param_grid={'n_neighbors': [3, 5, 7, 11, 15, 17]},\n",
       "       pre_dispatch='2*n_jobs', refit=True, return_train_score='warn',\n",
       "       scoring='accuracy', verbose=0)"
      ]
     },
     "execution_count": 49,
     "metadata": {},
     "output_type": "execute_result"
    }
   ],
   "source": [
    "gs = GridSearchCV(estimator=KNeighborsClassifier(),  \n",
    "                     param_grid=grid_param,\n",
    "                     scoring='accuracy',\n",
    "                     cv=5,\n",
    "                     n_jobs=-1)\n",
    "gs.fit(X_train, y_train)  "
   ]
  },
  {
   "cell_type": "code",
   "execution_count": 124,
   "metadata": {},
   "outputs": [
    {
     "name": "stdout",
     "output_type": "stream",
     "text": [
      "{'n_neighbors': 15}\n"
     ]
    }
   ],
   "source": [
    "best_parameters = gs.best_params_  \n",
    "print(best_parameters)"
   ]
  },
  {
   "cell_type": "code",
   "execution_count": 125,
   "metadata": {},
   "outputs": [
    {
     "data": {
      "text/plain": [
       "KNeighborsClassifier(algorithm='auto', leaf_size=30, metric='minkowski',\n",
       "           metric_params=None, n_jobs=None, n_neighbors=15, p=2,\n",
       "           weights='uniform')"
      ]
     },
     "execution_count": 125,
     "metadata": {},
     "output_type": "execute_result"
    }
   ],
   "source": [
    "knn_model = KNeighborsClassifier(n_neighbors=best_parameters['n_neighbors']) \n",
    "knn_model.fit(X_train, y_train)"
   ]
  },
  {
   "cell_type": "code",
   "execution_count": 126,
   "metadata": {},
   "outputs": [],
   "source": [
    "y_train_hat = knn_model.predict(X_train)\n",
    "y_val_hat = knn_model.predict(X_val)"
   ]
  },
  {
   "cell_type": "code",
   "execution_count": 128,
   "metadata": {},
   "outputs": [
    {
     "name": "stdout",
     "output_type": "stream",
     "text": [
      "Train Accuracy: 0.7013419654923159\n",
      "Validation Accuracy: 0.6548082966687618\n"
     ]
    }
   ],
   "source": [
    "print(\"Train Accuracy:\", metrics.accuracy_score(y_train, y_train_hat))\n",
    "print(\"Validation Accuracy:\", metrics.accuracy_score(y_val, y_val_hat))"
   ]
  },
  {
   "cell_type": "markdown",
   "metadata": {},
   "source": [
    "## 5. Deep Neural Network"
   ]
  },
  {
   "cell_type": "markdown",
   "metadata": {},
   "source": [
    "We will use a one-hot representation for the labels, thus new train/test split is created:"
   ]
  },
  {
   "cell_type": "code",
   "execution_count": 166,
   "metadata": {},
   "outputs": [],
   "source": [
    "X_train, X_val, y_train, y_val = train_test_split(X, y_1hot, test_size=0.2, random_state=123)"
   ]
  },
  {
   "cell_type": "code",
   "execution_count": 167,
   "metadata": {},
   "outputs": [],
   "source": [
    "X_len = X_train.shape[1]\n",
    "n_classes = len(y_train[0])"
   ]
  },
  {
   "cell_type": "markdown",
   "metadata": {},
   "source": [
    "Create the model:"
   ]
  },
  {
   "cell_type": "code",
   "execution_count": 168,
   "metadata": {
    "scrolled": true
   },
   "outputs": [
    {
     "name": "stdout",
     "output_type": "stream",
     "text": [
      "Model: \"sequential_8\"\n",
      "_________________________________________________________________\n",
      "Layer (type)                 Output Shape              Param #   \n",
      "=================================================================\n",
      "dense_32 (Dense)             (None, 1024)              2330624   \n",
      "_________________________________________________________________\n",
      "dropout_24 (Dropout)         (None, 1024)              0         \n",
      "_________________________________________________________________\n",
      "dense_33 (Dense)             (None, 512)               524800    \n",
      "_________________________________________________________________\n",
      "dropout_25 (Dropout)         (None, 512)               0         \n",
      "_________________________________________________________________\n",
      "dense_34 (Dense)             (None, 256)               131328    \n",
      "_________________________________________________________________\n",
      "dropout_26 (Dropout)         (None, 256)               0         \n",
      "_________________________________________________________________\n",
      "dense_35 (Dense)             (None, 20)                5140      \n",
      "=================================================================\n",
      "Total params: 2,991,892\n",
      "Trainable params: 2,991,892\n",
      "Non-trainable params: 0\n",
      "_________________________________________________________________\n",
      "None\n"
     ]
    }
   ],
   "source": [
    "model = tf.keras.Sequential()\n",
    "model.add(tf.keras.layers.Dense(units=1024, \n",
    "                    input_shape=[X_len],\n",
    "                    activation=tf.nn.relu))\n",
    "model.add(tf.keras.layers.Dropout(0.5))\n",
    "model.add(tf.keras.layers.Dense(units=512,           \n",
    "                    activation=tf.nn.relu))\n",
    "model.add(tf.keras.layers.Dropout(0.5))\n",
    "model.add(tf.keras.layers.Dense(units=256,        \n",
    "                    activation=tf.nn.relu))\n",
    "model.add(tf.keras.layers.Dropout(0.3))\n",
    "model.add(tf.keras.layers.Dense(units=n_classes,           \n",
    "                    activation=tf.nn.softmax))\n",
    "\n",
    "print(model.summary())"
   ]
  },
  {
   "cell_type": "code",
   "execution_count": 169,
   "metadata": {},
   "outputs": [],
   "source": [
    "model.compile(loss='categorical_crossentropy', optimizer='adam', metrics=['acc'])"
   ]
  },
  {
   "cell_type": "code",
   "execution_count": 171,
   "metadata": {},
   "outputs": [
    {
     "name": "stdout",
     "output_type": "stream",
     "text": [
      "Epoch 1/100\n",
      "31819/31819 [==============================] - 10s 300us/sample - loss: 0.0538 - acc: 0.9851\n",
      "Epoch 2/100\n",
      "31819/31819 [==============================] - 9s 270us/sample - loss: 0.0533 - acc: 0.9854\n",
      "Epoch 3/100\n",
      "31819/31819 [==============================] - 9s 292us/sample - loss: 0.0542 - acc: 0.9848\n",
      "Epoch 4/100\n",
      "31819/31819 [==============================] - 11s 357us/sample - loss: 0.0483 - acc: 0.9863 - loss: 0.0482 - acc: 0\n",
      "Epoch 5/100\n",
      "31819/31819 [==============================] - 9s 287us/sample - loss: 0.0521 - acc: 0.9855\n",
      "Epoch 6/100\n",
      "31819/31819 [==============================] - 9s 298us/sample - loss: 0.0503 - acc: 0.9855\n",
      "Epoch 7/100\n",
      "31819/31819 [==============================] - 9s 288us/sample - loss: 0.0482 - acc: 0.9856\n",
      "Epoch 8/100\n",
      "31819/31819 [==============================] - 9s 278us/sample - loss: 0.0537 - acc: 0.9849\n",
      "Epoch 9/100\n",
      "31819/31819 [==============================] - 9s 289us/sample - loss: 0.0470 - acc: 0.9874\n",
      "Epoch 10/100\n",
      "31819/31819 [==============================] - 11s 330us/sample - loss: 0.0545 - acc: 0.9854\n",
      "Epoch 11/100\n",
      "31819/31819 [==============================] - 12s 361us/sample - loss: 0.0499 - acc: 0.9858\n",
      "Epoch 12/100\n",
      "31819/31819 [==============================] - 13s 412us/sample - loss: 0.0456 - acc: 0.9866\n",
      "Epoch 13/100\n",
      "31819/31819 [==============================] - 11s 357us/sample - loss: 0.0474 - acc: 0.9864\n",
      "Epoch 14/100\n",
      "31819/31819 [==============================] - 10s 308us/sample - loss: 0.0496 - acc: 0.9864\n",
      "Epoch 15/100\n",
      "31819/31819 [==============================] - 10s 319us/sample - loss: 0.0467 - acc: 0.9871\n",
      "Epoch 16/100\n",
      "31819/31819 [==============================] - 9s 291us/sample - loss: 0.0485 - acc: 0.9867\n",
      "Epoch 17/100\n",
      "31819/31819 [==============================] - 9s 279us/sample - loss: 0.0540 - acc: 0.9860\n",
      "Epoch 18/100\n",
      "31819/31819 [==============================] - 9s 290us/sample - loss: 0.0483 - acc: 0.9869s - loss: 0.0489 - \n",
      "Epoch 19/100\n",
      "31819/31819 [==============================] - 9s 297us/sample - loss: 0.0407 - acc: 0.9875\n",
      "Epoch 20/100\n",
      "31819/31819 [==============================] - 9s 294us/sample - loss: 0.0385 - acc: 0.9884\n",
      "Epoch 21/100\n",
      "31819/31819 [==============================] - 9s 294us/sample - loss: 0.0476 - acc: 0.9866\n",
      "Epoch 22/100\n",
      "31819/31819 [==============================] - 10s 301us/sample - loss: 0.0488 - acc: 0.9869\n",
      "Epoch 23/100\n",
      "31819/31819 [==============================] - 9s 289us/sample - loss: 0.0459 - acc: 0.9871\n",
      "Epoch 24/100\n",
      "31819/31819 [==============================] - 9s 295us/sample - loss: 0.0440 - acc: 0.9882\n",
      "Epoch 25/100\n",
      "31819/31819 [==============================] - 9s 291us/sample - loss: 0.0410 - acc: 0.9886\n",
      "Epoch 26/100\n",
      "31819/31819 [==============================] - 9s 298us/sample - loss: 0.0436 - acc: 0.9876\n",
      "Epoch 27/100\n",
      "31819/31819 [==============================] - 11s 332us/sample - loss: 0.0466 - acc: 0.9879\n",
      "Epoch 28/100\n",
      "31819/31819 [==============================] - 10s 317us/sample - loss: 0.0480 - acc: 0.9875\n",
      "Epoch 29/100\n",
      "31819/31819 [==============================] - 9s 297us/sample - loss: 0.0415 - acc: 0.9877\n",
      "Epoch 30/100\n",
      "31819/31819 [==============================] - 10s 307us/sample - loss: 0.0395 - acc: 0.9883\n",
      "Epoch 31/100\n",
      "31819/31819 [==============================] - 9s 288us/sample - loss: 0.0449 - acc: 0.9884\n",
      "Epoch 32/100\n",
      "31819/31819 [==============================] - 9s 277us/sample - loss: 0.0463 - acc: 0.9875\n",
      "Epoch 33/100\n",
      "31819/31819 [==============================] - 9s 297us/sample - loss: 0.0423 - acc: 0.9880\n",
      "Epoch 34/100\n",
      "31819/31819 [==============================] - 9s 277us/sample - loss: 0.0476 - acc: 0.9876\n",
      "Epoch 35/100\n",
      "31819/31819 [==============================] - 10s 328us/sample - loss: 0.0422 - acc: 0.9887\n",
      "Epoch 36/100\n",
      "31819/31819 [==============================] - 12s 379us/sample - loss: 0.0436 - acc: 0.9883\n",
      "Epoch 37/100\n",
      "31819/31819 [==============================] - 12s 362us/sample - loss: 0.0457 - acc: 0.9881\n",
      "Epoch 38/100\n",
      "31819/31819 [==============================] - 11s 353us/sample - loss: 0.0415 - acc: 0.9887\n",
      "Epoch 39/100\n",
      "31819/31819 [==============================] - 11s 361us/sample - loss: 0.0439 - acc: 0.9881\n",
      "Epoch 40/100\n",
      "31819/31819 [==============================] - 10s 321us/sample - loss: 0.0438 - acc: 0.9884\n",
      "Epoch 41/100\n",
      "31819/31819 [==============================] - 9s 285us/sample - loss: 0.0395 - acc: 0.9893\n",
      "Epoch 42/100\n",
      "31819/31819 [==============================] - 9s 282us/sample - loss: 0.0458 - acc: 0.9879\n",
      "Epoch 43/100\n",
      "31819/31819 [==============================] - 10s 328us/sample - loss: 0.0408 - acc: 0.9880\n",
      "Epoch 44/100\n",
      "31819/31819 [==============================] - 9s 293us/sample - loss: 0.0415 - acc: 0.9888\n",
      "Epoch 45/100\n",
      "31819/31819 [==============================] - 8s 261us/sample - loss: 0.0384 - acc: 0.9896\n",
      "Epoch 46/100\n",
      "31819/31819 [==============================] - 8s 255us/sample - loss: 0.0433 - acc: 0.9882\n",
      "Epoch 47/100\n",
      "31819/31819 [==============================] - 8s 248us/sample - loss: 0.0413 - acc: 0.9894\n",
      "Epoch 48/100\n",
      "31819/31819 [==============================] - 9s 283us/sample - loss: 0.0423 - acc: 0.9888\n",
      "Epoch 49/100\n",
      "31819/31819 [==============================] - 9s 282us/sample - loss: 0.0424 - acc: 0.9888\n",
      "Epoch 50/100\n",
      "31819/31819 [==============================] - 9s 290us/sample - loss: 0.0400 - acc: 0.9893\n",
      "Epoch 51/100\n",
      "31819/31819 [==============================] - 10s 313us/sample - loss: 0.0356 - acc: 0.9909\n",
      "Epoch 52/100\n",
      "31819/31819 [==============================] - 9s 296us/sample - loss: 0.0370 - acc: 0.9900\n",
      "Epoch 53/100\n",
      "31819/31819 [==============================] - 10s 304us/sample - loss: 0.0441 - acc: 0.9890\n",
      "Epoch 54/100\n",
      "31819/31819 [==============================] - 10s 323us/sample - loss: 0.0408 - acc: 0.9894\n",
      "Epoch 55/100\n",
      "31819/31819 [==============================] - 9s 298us/sample - loss: 0.0403 - acc: 0.9892\n",
      "Epoch 56/100\n",
      "31819/31819 [==============================] - 12s 371us/sample - loss: 0.0401 - acc: 0.9886\n",
      "Epoch 57/100\n",
      "31819/31819 [==============================] - 12s 376us/sample - loss: 0.0447 - acc: 0.9884\n",
      "Epoch 58/100\n",
      "31819/31819 [==============================] - 11s 348us/sample - loss: 0.0399 - acc: 0.9889\n",
      "Epoch 59/100\n",
      "31819/31819 [==============================] - 12s 379us/sample - loss: 0.0382 - acc: 0.9906\n",
      "Epoch 60/100\n",
      "31819/31819 [==============================] - 11s 358us/sample - loss: 0.0428 - acc: 0.9883\n",
      "Epoch 61/100\n",
      "31819/31819 [==============================] - 11s 342us/sample - loss: 0.0419 - acc: 0.9886\n",
      "Epoch 62/100\n",
      "31819/31819 [==============================] - 12s 369us/sample - loss: 0.0376 - acc: 0.9904\n",
      "Epoch 63/100\n",
      "31819/31819 [==============================] - 10s 302us/sample - loss: 0.0376 - acc: 0.9899\n",
      "Epoch 64/100\n",
      "31819/31819 [==============================] - 9s 279us/sample - loss: 0.0383 - acc: 0.9896\n",
      "Epoch 65/100\n",
      "31819/31819 [==============================] - 10s 299us/sample - loss: 0.0391 - acc: 0.9908\n",
      "Epoch 66/100\n",
      "31819/31819 [==============================] - 10s 312us/sample - loss: 0.0373 - acc: 0.9906\n",
      "Epoch 67/100\n",
      "31819/31819 [==============================] - 8s 258us/sample - loss: 0.0376 - acc: 0.9908\n",
      "Epoch 68/100\n",
      "31819/31819 [==============================] - 8s 256us/sample - loss: 0.0359 - acc: 0.9913\n",
      "Epoch 69/100\n",
      "31819/31819 [==============================] - 10s 307us/sample - loss: 0.0363 - acc: 0.9897\n",
      "Epoch 70/100\n",
      "31819/31819 [==============================] - 10s 305us/sample - loss: 0.0399 - acc: 0.9900\n",
      "Epoch 71/100\n",
      "31819/31819 [==============================] - 13s 405us/sample - loss: 0.0407 - acc: 0.9898\n",
      "Epoch 72/100\n",
      "31819/31819 [==============================] - 10s 320us/sample - loss: 0.0359 - acc: 0.9902\n",
      "Epoch 73/100\n",
      "31819/31819 [==============================] - 11s 340us/sample - loss: 0.0393 - acc: 0.9897\n",
      "Epoch 74/100\n",
      "31819/31819 [==============================] - 11s 354us/sample - loss: 0.0449 - acc: 0.9896\n",
      "Epoch 75/100\n",
      "31819/31819 [==============================] - 11s 353us/sample - loss: 0.0339 - acc: 0.9906\n",
      "Epoch 76/100\n",
      "31819/31819 [==============================] - 12s 390us/sample - loss: 0.0389 - acc: 0.9899\n",
      "Epoch 77/100\n",
      "31819/31819 [==============================] - 11s 353us/sample - loss: 0.0397 - acc: 0.9900\n",
      "Epoch 78/100\n"
     ]
    },
    {
     "name": "stdout",
     "output_type": "stream",
     "text": [
      "31819/31819 [==============================] - 13s 397us/sample - loss: 0.0405 - acc: 0.9904\n",
      "Epoch 79/100\n",
      "31819/31819 [==============================] - 10s 299us/sample - loss: 0.0379 - acc: 0.9904\n",
      "Epoch 80/100\n",
      "31819/31819 [==============================] - 9s 293us/sample - loss: 0.0351 - acc: 0.9908\n",
      "Epoch 81/100\n",
      "31819/31819 [==============================] - 9s 298us/sample - loss: 0.0324 - acc: 0.9918\n",
      "Epoch 82/100\n",
      "31819/31819 [==============================] - 11s 349us/sample - loss: 0.0407 - acc: 0.9898\n",
      "Epoch 83/100\n",
      "31819/31819 [==============================] - 13s 413us/sample - loss: 0.0353 - acc: 0.9912\n",
      "Epoch 84/100\n",
      "31819/31819 [==============================] - 9s 295us/sample - loss: 0.0362 - acc: 0.9904\n",
      "Epoch 85/100\n",
      "31819/31819 [==============================] - 11s 343us/sample - loss: 0.0326 - acc: 0.9921\n",
      "Epoch 86/100\n",
      "31819/31819 [==============================] - 9s 276us/sample - loss: 0.0338 - acc: 0.9914\n",
      "Epoch 87/100\n",
      "31819/31819 [==============================] - 11s 349us/sample - loss: 0.0373 - acc: 0.9908\n",
      "Epoch 88/100\n",
      "31819/31819 [==============================] - 10s 315us/sample - loss: 0.0329 - acc: 0.9919\n",
      "Epoch 89/100\n",
      "31819/31819 [==============================] - 9s 274us/sample - loss: 0.0365 - acc: 0.9907\n",
      "Epoch 90/100\n",
      "31819/31819 [==============================] - 11s 347us/sample - loss: 0.0386 - acc: 0.9908\n",
      "Epoch 91/100\n",
      "31819/31819 [==============================] - 12s 373us/sample - loss: 0.0356 - acc: 0.9907\n",
      "Epoch 92/100\n",
      "31819/31819 [==============================] - 12s 374us/sample - loss: 0.0376 - acc: 0.9915\n",
      "Epoch 93/100\n",
      "31819/31819 [==============================] - 12s 380us/sample - loss: 0.0432 - acc: 0.9896\n",
      "Epoch 94/100\n",
      "31819/31819 [==============================] - 9s 270us/sample - loss: 0.0357 - acc: 0.9909\n",
      "Epoch 95/100\n",
      "31819/31819 [==============================] - 9s 288us/sample - loss: 0.0365 - acc: 0.9903\n",
      "Epoch 96/100\n",
      "31819/31819 [==============================] - 9s 298us/sample - loss: 0.0388 - acc: 0.9906\n",
      "Epoch 97/100\n",
      "31819/31819 [==============================] - 10s 300us/sample - loss: 0.0336 - acc: 0.9914\n",
      "Epoch 98/100\n",
      "31819/31819 [==============================] - 10s 317us/sample - loss: 0.0393 - acc: 0.9911\n",
      "Epoch 99/100\n",
      "31819/31819 [==============================] - 10s 312us/sample - loss: 0.0327 - acc: 0.9915\n",
      "Epoch 100/100\n",
      "31819/31819 [==============================] - 10s 308us/sample - loss: 0.0310 - acc: 0.9928\n"
     ]
    },
    {
     "data": {
      "text/plain": [
       "<tensorflow.python.keras.callbacks.History at 0x11d6b03c8>"
      ]
     },
     "execution_count": 171,
     "metadata": {},
     "output_type": "execute_result"
    }
   ],
   "source": [
    "model.fit(X_train, y_train, batch_size=64, epochs=100, verbose=1)"
   ]
  },
  {
   "cell_type": "code",
   "execution_count": 172,
   "metadata": {},
   "outputs": [
    {
     "name": "stdout",
     "output_type": "stream",
     "text": [
      "31819/31819 [==============================] - 5s 156us/sample - loss: 7.2432e-04 - acc: 0.9997\n",
      "7955/7955 [==============================] - 1s 140us/sample - loss: 2.3672 - acc: 0.8049\n"
     ]
    }
   ],
   "source": [
    "_, train_acc = model.evaluate(X_train, y_train)\n",
    "_, val_acc = model.evaluate(X_val, y_val)"
   ]
  },
  {
   "cell_type": "code",
   "execution_count": 173,
   "metadata": {},
   "outputs": [],
   "source": [
    "predictions = model.predict_classes(X_val)"
   ]
  },
  {
   "cell_type": "code",
   "execution_count": 174,
   "metadata": {},
   "outputs": [
    {
     "data": {
      "text/plain": [
       "array(['southern_us', 'southern_us', 'french', ..., 'indian', 'mexican',\n",
       "       'southern_us'], dtype='<U12')"
      ]
     },
     "execution_count": 174,
     "metadata": {},
     "output_type": "execute_result"
    }
   ],
   "source": [
    "label_encoder.classes_[predictions]"
   ]
  },
  {
   "cell_type": "code",
   "execution_count": 175,
   "metadata": {},
   "outputs": [
    {
     "name": "stdout",
     "output_type": "stream",
     "text": [
      "Train Accuracy: 99.97\n",
      "Validation Accuracy: 80.49\n"
     ]
    }
   ],
   "source": [
    "print(\"Train Accuracy:\", round(train_acc * 100, 2))\n",
    "print(\"Validation Accuracy:\", round(val_acc * 100, 2))"
   ]
  },
  {
   "cell_type": "markdown",
   "metadata": {},
   "source": [
    "# Part 4: Creating submission file"
   ]
  },
  {
   "cell_type": "code",
   "execution_count": 176,
   "metadata": {},
   "outputs": [
    {
     "data": {
      "text/plain": [
       "(9944, 2275)"
      ]
     },
     "execution_count": 176,
     "metadata": {},
     "output_type": "execute_result"
    }
   ],
   "source": [
    "X_test.shape"
   ]
  },
  {
   "cell_type": "code",
   "execution_count": 177,
   "metadata": {},
   "outputs": [],
   "source": [
    "predicted_ids = model.predict_classes(X_test)\n",
    "predicted_cuisines = label_encoder.classes_[predicted_ids]"
   ]
  },
  {
   "cell_type": "code",
   "execution_count": 178,
   "metadata": {},
   "outputs": [
    {
     "data": {
      "text/html": [
       "<div>\n",
       "<style scoped>\n",
       "    .dataframe tbody tr th:only-of-type {\n",
       "        vertical-align: middle;\n",
       "    }\n",
       "\n",
       "    .dataframe tbody tr th {\n",
       "        vertical-align: top;\n",
       "    }\n",
       "\n",
       "    .dataframe thead th {\n",
       "        text-align: right;\n",
       "    }\n",
       "</style>\n",
       "<table border=\"1\" class=\"dataframe\">\n",
       "  <thead>\n",
       "    <tr style=\"text-align: right;\">\n",
       "      <th></th>\n",
       "      <th>id</th>\n",
       "      <th>cuisine</th>\n",
       "    </tr>\n",
       "  </thead>\n",
       "  <tbody>\n",
       "    <tr>\n",
       "      <th>0</th>\n",
       "      <td>18009</td>\n",
       "      <td>irish</td>\n",
       "    </tr>\n",
       "    <tr>\n",
       "      <th>1</th>\n",
       "      <td>28583</td>\n",
       "      <td>southern_us</td>\n",
       "    </tr>\n",
       "    <tr>\n",
       "      <th>2</th>\n",
       "      <td>41580</td>\n",
       "      <td>italian</td>\n",
       "    </tr>\n",
       "    <tr>\n",
       "      <th>3</th>\n",
       "      <td>29752</td>\n",
       "      <td>cajun_creole</td>\n",
       "    </tr>\n",
       "    <tr>\n",
       "      <th>4</th>\n",
       "      <td>35687</td>\n",
       "      <td>italian</td>\n",
       "    </tr>\n",
       "    <tr>\n",
       "      <th>5</th>\n",
       "      <td>38527</td>\n",
       "      <td>southern_us</td>\n",
       "    </tr>\n",
       "    <tr>\n",
       "      <th>6</th>\n",
       "      <td>19666</td>\n",
       "      <td>italian</td>\n",
       "    </tr>\n",
       "    <tr>\n",
       "      <th>7</th>\n",
       "      <td>41217</td>\n",
       "      <td>chinese</td>\n",
       "    </tr>\n",
       "    <tr>\n",
       "      <th>8</th>\n",
       "      <td>28753</td>\n",
       "      <td>mexican</td>\n",
       "    </tr>\n",
       "    <tr>\n",
       "      <th>9</th>\n",
       "      <td>22659</td>\n",
       "      <td>british</td>\n",
       "    </tr>\n",
       "    <tr>\n",
       "      <th>10</th>\n",
       "      <td>21749</td>\n",
       "      <td>italian</td>\n",
       "    </tr>\n",
       "    <tr>\n",
       "      <th>11</th>\n",
       "      <td>44967</td>\n",
       "      <td>greek</td>\n",
       "    </tr>\n",
       "    <tr>\n",
       "      <th>12</th>\n",
       "      <td>42969</td>\n",
       "      <td>indian</td>\n",
       "    </tr>\n",
       "    <tr>\n",
       "      <th>13</th>\n",
       "      <td>44883</td>\n",
       "      <td>italian</td>\n",
       "    </tr>\n",
       "    <tr>\n",
       "      <th>14</th>\n",
       "      <td>20827</td>\n",
       "      <td>irish</td>\n",
       "    </tr>\n",
       "    <tr>\n",
       "      <th>15</th>\n",
       "      <td>23196</td>\n",
       "      <td>french</td>\n",
       "    </tr>\n",
       "    <tr>\n",
       "      <th>16</th>\n",
       "      <td>35387</td>\n",
       "      <td>cajun_creole</td>\n",
       "    </tr>\n",
       "    <tr>\n",
       "      <th>17</th>\n",
       "      <td>33780</td>\n",
       "      <td>southern_us</td>\n",
       "    </tr>\n",
       "    <tr>\n",
       "      <th>18</th>\n",
       "      <td>19001</td>\n",
       "      <td>mexican</td>\n",
       "    </tr>\n",
       "    <tr>\n",
       "      <th>19</th>\n",
       "      <td>16526</td>\n",
       "      <td>southern_us</td>\n",
       "    </tr>\n",
       "    <tr>\n",
       "      <th>20</th>\n",
       "      <td>42455</td>\n",
       "      <td>japanese</td>\n",
       "    </tr>\n",
       "    <tr>\n",
       "      <th>21</th>\n",
       "      <td>47453</td>\n",
       "      <td>indian</td>\n",
       "    </tr>\n",
       "    <tr>\n",
       "      <th>22</th>\n",
       "      <td>42478</td>\n",
       "      <td>irish</td>\n",
       "    </tr>\n",
       "    <tr>\n",
       "      <th>23</th>\n",
       "      <td>11885</td>\n",
       "      <td>vietnamese</td>\n",
       "    </tr>\n",
       "    <tr>\n",
       "      <th>24</th>\n",
       "      <td>16585</td>\n",
       "      <td>italian</td>\n",
       "    </tr>\n",
       "    <tr>\n",
       "      <th>25</th>\n",
       "      <td>29639</td>\n",
       "      <td>southern_us</td>\n",
       "    </tr>\n",
       "    <tr>\n",
       "      <th>26</th>\n",
       "      <td>26245</td>\n",
       "      <td>vietnamese</td>\n",
       "    </tr>\n",
       "    <tr>\n",
       "      <th>27</th>\n",
       "      <td>38516</td>\n",
       "      <td>chinese</td>\n",
       "    </tr>\n",
       "    <tr>\n",
       "      <th>28</th>\n",
       "      <td>47520</td>\n",
       "      <td>italian</td>\n",
       "    </tr>\n",
       "    <tr>\n",
       "      <th>29</th>\n",
       "      <td>26212</td>\n",
       "      <td>southern_us</td>\n",
       "    </tr>\n",
       "    <tr>\n",
       "      <th>...</th>\n",
       "      <td>...</td>\n",
       "      <td>...</td>\n",
       "    </tr>\n",
       "    <tr>\n",
       "      <th>70</th>\n",
       "      <td>11358</td>\n",
       "      <td>italian</td>\n",
       "    </tr>\n",
       "    <tr>\n",
       "      <th>71</th>\n",
       "      <td>9201</td>\n",
       "      <td>indian</td>\n",
       "    </tr>\n",
       "    <tr>\n",
       "      <th>72</th>\n",
       "      <td>38620</td>\n",
       "      <td>thai</td>\n",
       "    </tr>\n",
       "    <tr>\n",
       "      <th>73</th>\n",
       "      <td>47638</td>\n",
       "      <td>brazilian</td>\n",
       "    </tr>\n",
       "    <tr>\n",
       "      <th>74</th>\n",
       "      <td>21238</td>\n",
       "      <td>indian</td>\n",
       "    </tr>\n",
       "    <tr>\n",
       "      <th>75</th>\n",
       "      <td>11053</td>\n",
       "      <td>japanese</td>\n",
       "    </tr>\n",
       "    <tr>\n",
       "      <th>76</th>\n",
       "      <td>46602</td>\n",
       "      <td>indian</td>\n",
       "    </tr>\n",
       "    <tr>\n",
       "      <th>77</th>\n",
       "      <td>13937</td>\n",
       "      <td>mexican</td>\n",
       "    </tr>\n",
       "    <tr>\n",
       "      <th>78</th>\n",
       "      <td>21876</td>\n",
       "      <td>southern_us</td>\n",
       "    </tr>\n",
       "    <tr>\n",
       "      <th>79</th>\n",
       "      <td>20798</td>\n",
       "      <td>greek</td>\n",
       "    </tr>\n",
       "    <tr>\n",
       "      <th>80</th>\n",
       "      <td>24381</td>\n",
       "      <td>chinese</td>\n",
       "    </tr>\n",
       "    <tr>\n",
       "      <th>81</th>\n",
       "      <td>48178</td>\n",
       "      <td>spanish</td>\n",
       "    </tr>\n",
       "    <tr>\n",
       "      <th>82</th>\n",
       "      <td>45832</td>\n",
       "      <td>italian</td>\n",
       "    </tr>\n",
       "    <tr>\n",
       "      <th>83</th>\n",
       "      <td>27560</td>\n",
       "      <td>korean</td>\n",
       "    </tr>\n",
       "    <tr>\n",
       "      <th>84</th>\n",
       "      <td>23247</td>\n",
       "      <td>british</td>\n",
       "    </tr>\n",
       "    <tr>\n",
       "      <th>85</th>\n",
       "      <td>28975</td>\n",
       "      <td>southern_us</td>\n",
       "    </tr>\n",
       "    <tr>\n",
       "      <th>86</th>\n",
       "      <td>43230</td>\n",
       "      <td>greek</td>\n",
       "    </tr>\n",
       "    <tr>\n",
       "      <th>87</th>\n",
       "      <td>9126</td>\n",
       "      <td>french</td>\n",
       "    </tr>\n",
       "    <tr>\n",
       "      <th>88</th>\n",
       "      <td>13021</td>\n",
       "      <td>cajun_creole</td>\n",
       "    </tr>\n",
       "    <tr>\n",
       "      <th>89</th>\n",
       "      <td>28194</td>\n",
       "      <td>chinese</td>\n",
       "    </tr>\n",
       "    <tr>\n",
       "      <th>90</th>\n",
       "      <td>25617</td>\n",
       "      <td>indian</td>\n",
       "    </tr>\n",
       "    <tr>\n",
       "      <th>91</th>\n",
       "      <td>36125</td>\n",
       "      <td>italian</td>\n",
       "    </tr>\n",
       "    <tr>\n",
       "      <th>92</th>\n",
       "      <td>16454</td>\n",
       "      <td>mexican</td>\n",
       "    </tr>\n",
       "    <tr>\n",
       "      <th>93</th>\n",
       "      <td>1607</td>\n",
       "      <td>chinese</td>\n",
       "    </tr>\n",
       "    <tr>\n",
       "      <th>94</th>\n",
       "      <td>38526</td>\n",
       "      <td>moroccan</td>\n",
       "    </tr>\n",
       "    <tr>\n",
       "      <th>95</th>\n",
       "      <td>18755</td>\n",
       "      <td>southern_us</td>\n",
       "    </tr>\n",
       "    <tr>\n",
       "      <th>96</th>\n",
       "      <td>12035</td>\n",
       "      <td>french</td>\n",
       "    </tr>\n",
       "    <tr>\n",
       "      <th>97</th>\n",
       "      <td>16047</td>\n",
       "      <td>greek</td>\n",
       "    </tr>\n",
       "    <tr>\n",
       "      <th>98</th>\n",
       "      <td>15419</td>\n",
       "      <td>italian</td>\n",
       "    </tr>\n",
       "    <tr>\n",
       "      <th>99</th>\n",
       "      <td>16971</td>\n",
       "      <td>indian</td>\n",
       "    </tr>\n",
       "  </tbody>\n",
       "</table>\n",
       "<p>100 rows × 2 columns</p>\n",
       "</div>"
      ],
      "text/plain": [
       "       id       cuisine\n",
       "0   18009         irish\n",
       "1   28583   southern_us\n",
       "2   41580       italian\n",
       "3   29752  cajun_creole\n",
       "4   35687       italian\n",
       "5   38527   southern_us\n",
       "6   19666       italian\n",
       "7   41217       chinese\n",
       "8   28753       mexican\n",
       "9   22659       british\n",
       "10  21749       italian\n",
       "11  44967         greek\n",
       "12  42969        indian\n",
       "13  44883       italian\n",
       "14  20827         irish\n",
       "15  23196        french\n",
       "16  35387  cajun_creole\n",
       "17  33780   southern_us\n",
       "18  19001       mexican\n",
       "19  16526   southern_us\n",
       "20  42455      japanese\n",
       "21  47453        indian\n",
       "22  42478         irish\n",
       "23  11885    vietnamese\n",
       "24  16585       italian\n",
       "25  29639   southern_us\n",
       "26  26245    vietnamese\n",
       "27  38516       chinese\n",
       "28  47520       italian\n",
       "29  26212   southern_us\n",
       "..    ...           ...\n",
       "70  11358       italian\n",
       "71   9201        indian\n",
       "72  38620          thai\n",
       "73  47638     brazilian\n",
       "74  21238        indian\n",
       "75  11053      japanese\n",
       "76  46602        indian\n",
       "77  13937       mexican\n",
       "78  21876   southern_us\n",
       "79  20798         greek\n",
       "80  24381       chinese\n",
       "81  48178       spanish\n",
       "82  45832       italian\n",
       "83  27560        korean\n",
       "84  23247       british\n",
       "85  28975   southern_us\n",
       "86  43230         greek\n",
       "87   9126        french\n",
       "88  13021  cajun_creole\n",
       "89  28194       chinese\n",
       "90  25617        indian\n",
       "91  36125       italian\n",
       "92  16454       mexican\n",
       "93   1607       chinese\n",
       "94  38526      moroccan\n",
       "95  18755   southern_us\n",
       "96  12035        french\n",
       "97  16047         greek\n",
       "98  15419       italian\n",
       "99  16971        indian\n",
       "\n",
       "[100 rows x 2 columns]"
      ]
     },
     "execution_count": 178,
     "metadata": {},
     "output_type": "execute_result"
    }
   ],
   "source": [
    "submission = pd.DataFrame({'id': df_test['id'], 'cuisine': predicted_cuisines})\n",
    "submission[:100]"
   ]
  },
  {
   "cell_type": "markdown",
   "metadata": {},
   "source": [
    "Store results into .csv file"
   ]
  },
  {
   "cell_type": "code",
   "execution_count": 179,
   "metadata": {},
   "outputs": [],
   "source": [
    "submission.to_csv('output/submission.csv', index=False)"
   ]
  }
 ],
 "metadata": {
  "kernelspec": {
   "display_name": "Python 3.7",
   "language": "python",
   "name": "other-env"
  },
  "language_info": {
   "codemirror_mode": {
    "name": "ipython",
    "version": 3
   },
   "file_extension": ".py",
   "mimetype": "text/x-python",
   "name": "python",
   "nbconvert_exporter": "python",
   "pygments_lexer": "ipython3",
   "version": "3.7.3"
  }
 },
 "nbformat": 4,
 "nbformat_minor": 2
}
